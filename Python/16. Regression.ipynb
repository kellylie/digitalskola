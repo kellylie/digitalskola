{
  "nbformat": 4,
  "nbformat_minor": 0,
  "metadata": {
    "colab": {
      "name": "HW 2 Homework of Regression.ipynb",
      "provenance": [],
      "collapsed_sections": []
    },
    "kernelspec": {
      "display_name": "Python 3",
      "language": "python",
      "name": "python3"
    },
    "language_info": {
      "codemirror_mode": {
        "name": "ipython",
        "version": 3
      },
      "file_extension": ".py",
      "mimetype": "text/x-python",
      "name": "python",
      "nbconvert_exporter": "python",
      "pygments_lexer": "ipython3",
      "version": "3.7.6"
    }
  },
  "cells": [
    {
      "cell_type": "markdown",
      "metadata": {
        "id": "1xGA6Usmbt8b"
      },
      "source": [
        "<h1>Pengaplikasian Model Linear Regression 1</h1>\n",
        "\n",
        "Aplikasikan model linear regresi kedalam data berikut. Kemudian tunjukan parameter koefesien dan intercept dari model tersebut."
      ]
    },
    {
      "cell_type": "code",
      "metadata": {
        "id": "IEsbrAiybt8i"
      },
      "source": [
        "import numpy as np\n",
        "import pandas as pd\n",
        "from sklearn.linear_model import LinearRegression\n",
        "from sklearn.model_selection import train_test_split\n",
        "\n",
        "rng = np.random.RandomState(1)\n",
        "\n",
        "x = 10 * rng.rand(50, 4)\n",
        "y = np.array([  0.9826564 ,  49.40390035,  85.76013175,  29.17254633,\n",
        "        11.270054  ,  61.53852735, -19.52503854,  10.10230867,\n",
        "        82.03058206,  45.72660678,  82.09252575,  90.78872391,\n",
        "        67.94178098,  39.97492762, 124.78866966,  85.24615819,\n",
        "        85.68491086,  80.39481211,  14.54591581, 137.19722354,\n",
        "        85.04063428,  94.76681927,  84.64289989,  38.76421156,\n",
        "        47.33953927,  94.50853335,  77.3276567 ,  -9.77846805,\n",
        "        61.13434468,  42.12124052,  26.65634335, 120.41593333,\n",
        "       138.08132504, 103.33745675, 145.64447692,  19.54777986,\n",
        "        87.40631024, 111.47327389,  95.94874761, 146.34817502,\n",
        "       118.10333528,  56.85956484, 108.57660235, 114.30790247,\n",
        "        40.27107041,  73.83871008,  45.52217182,  -7.57752547,\n",
        "       147.81772162, 139.40285349])"
      ],
      "execution_count": null,
      "outputs": []
    },
    {
      "cell_type": "code",
      "metadata": {
        "id": "swn3kRLs3wPw"
      },
      "source": [
        "x = pd.DataFrame(list(x)) \n",
        "x.columns =['x1', 'x2', 'x3', 'x4']"
      ],
      "execution_count": null,
      "outputs": []
    },
    {
      "cell_type": "code",
      "metadata": {
        "id": "bhNDFQ1Ky5ds"
      },
      "source": [
        "#Split the data\n",
        "X_train, X_test, y_train, y_test = train_test_split(x,y,test_size=0.25,random_state=0)"
      ],
      "execution_count": null,
      "outputs": []
    },
    {
      "cell_type": "code",
      "metadata": {
        "id": "maJCGIT-zn2I"
      },
      "source": [
        "ols_model = LinearRegression().fit(X_train, y_train)\n",
        "\n",
        "# Predict in Training Dataset\n",
        "y_train_pred = ols_model.predict(X_train)\n",
        "\n",
        "# Predict in Test Dataset\n",
        "y_test_pred = ols_model.predict(X_test)"
      ],
      "execution_count": null,
      "outputs": []
    },
    {
      "cell_type": "markdown",
      "metadata": {
        "id": "-Nqot_crKOgp"
      },
      "source": [
        "Nilai Parameter:"
      ]
    },
    {
      "cell_type": "code",
      "metadata": {
        "colab": {
          "base_uri": "https://localhost:8080/"
        },
        "id": "V8s_kHXu00NR",
        "outputId": "b3c4380c-ac78-4056-b96f-375eb0396ebd"
      },
      "source": [
        "#nilai koefisien\n",
        "ols_model.coef_"
      ],
      "execution_count": null,
      "outputs": [
        {
          "output_type": "execute_result",
          "data": {
            "text/plain": [
              "array([ 1.5, -5. ,  9. , 10. ])"
            ]
          },
          "metadata": {
            "tags": []
          },
          "execution_count": 161
        }
      ]
    },
    {
      "cell_type": "code",
      "metadata": {
        "colab": {
          "base_uri": "https://localhost:8080/"
        },
        "id": "J0T_J5Tq4fzS",
        "outputId": "c1a64afd-9580-4197-9c69-49af9b74bb82"
      },
      "source": [
        "#nilai intercept\n",
        "ols_model.intercept_"
      ],
      "execution_count": null,
      "outputs": [
        {
          "output_type": "execute_result",
          "data": {
            "text/plain": [
              "0.5000000006939302"
            ]
          },
          "metadata": {
            "tags": []
          },
          "execution_count": 162
        }
      ]
    },
    {
      "cell_type": "markdown",
      "metadata": {
        "id": "G-cDRxKfQAeq"
      },
      "source": [
        "nilai koef x1 = 1.5\n",
        "\n",
        "nilai koef x2 = -5\n",
        "\n",
        "nilai koef x3 = 9\n",
        "\n",
        "nilai koef x4 = 10\n",
        "\n",
        "nilai intercept = 0.5\n",
        "\n",
        "\n",
        "\n"
      ]
    },
    {
      "cell_type": "code",
      "metadata": {
        "colab": {
          "base_uri": "https://localhost:8080/",
          "height": 301
        },
        "id": "SVENw1gp1lZY",
        "outputId": "3838bb37-15d8-406f-d502-45b32e770e34"
      },
      "source": [
        "predictors = X_train.columns\n",
        "coef = pd.Series(ols_model.coef_,predictors).sort_values()\n",
        "coef.plot(kind='bar', title='Modal Coefficients')"
      ],
      "execution_count": null,
      "outputs": [
        {
          "output_type": "execute_result",
          "data": {
            "text/plain": [
              "<matplotlib.axes._subplots.AxesSubplot at 0x7f33461bae50>"
            ]
          },
          "metadata": {
            "tags": []
          },
          "execution_count": 163
        },
        {
          "output_type": "display_data",
          "data": {
            "image/png": "[encoded data removed]",
            "text/plain": [
              "<Figure size 432x288 with 1 Axes>"
            ]
          },
          "metadata": {
            "tags": [],
            "needs_background": "light"
          }
        }
      ]
    },
    {
      "cell_type": "code",
      "metadata": {
        "colab": {
          "base_uri": "https://localhost:8080/"
        },
        "id": "g6NTl8lUAgb-",
        "outputId": "d92f8631-a93b-46e4-cc2b-06edfb102cfa"
      },
      "source": [
        "from sklearn.metrics import r2_score\n",
        "from sklearn.metrics import mean_absolute_error\n",
        "from sklearn.metrics import mean_squared_error\n",
        "\n",
        "#R^2\n",
        "print('r2 score train =',r2_score(y_train, y_train_pred))\n",
        "print('r2 score test =',r2_score(y_test, y_test_pred))\n",
        "\n",
        "#MAE\n",
        "print('MAE train =',mean_absolute_error(y_train, y_train_pred))\n",
        "print('MAE test =',mean_absolute_error(y_test, y_test_pred))\n",
        "\n",
        "#MSE\n",
        "print('MSE train =',mean_squared_error(y_train, y_train_pred))\n",
        "print('MSE test =',mean_squared_error(y_test, y_test_pred))"
      ],
      "execution_count": null,
      "outputs": [
        {
          "output_type": "stream",
          "text": [
            "r2 score train = 1.0\n",
            "r2 score test = 1.0\n",
            "MAE train = 2.447979338757253e-09\n",
            "MAE test = 3.428390836181559e-09\n",
            "MSE train = 7.893981959629617e-18\n",
            "MSE test = 1.8100634862852813e-17\n"
          ],
          "name": "stdout"
        }
      ]
    },
    {
      "cell_type": "code",
      "metadata": {
        "colab": {
          "base_uri": "https://localhost:8080/"
        },
        "id": "RBy00Ttb4tWg",
        "outputId": "7bfaa0ce-f56c-4a43-9d87-9b6f35fb8dc0"
      },
      "source": [
        "print('Nilai persamaan: y =',\"{:.2f}\".format(ols_model.coef_[0]),'x1+',\"{:.2f}\".format(ols_model.coef_[1]),'x2+',\"{:.2f}\".format(ols_model.coef_[2]),'x3+',\"{:.2f}\".format(ols_model.coef_[3]),'x4+',\"{:.2f}\".format(ols_model.intercept_))"
      ],
      "execution_count": null,
      "outputs": [
        {
          "output_type": "stream",
          "text": [
            "Nilai persamaan: y = 1.50 x1+ -5.00 x2+ 9.00 x3+ 10.00 x4+ 0.50\n"
          ],
          "name": "stdout"
        }
      ]
    },
    {
      "cell_type": "markdown",
      "metadata": {
        "id": "T3B4nuh9y5dt"
      },
      "source": [
        "<h1>Pengaplikasian Model Linear Regression 2</h1>\n",
        "\n",
        "Download [`taiwan_real_estate2.csv](https://drive.google.com/file/d/1CgU-QIxvK_r-My8I0RSYR647JQMFlCJn/view?usp=sharing)\n",
        "\n",
        "\n",
        "1. Buat model regresi linear dengan response variable price (kolom `price_twd_msq`) dan explanatory variable jumlah store yang beredar di sekitar (kolom `n_convenience`). Bagaimana cara kita mengukur performa model tersebut? Apa kesimpulan yang bisa ditarik? \n",
        "2. Buat qq-plot dari hasil model tersebut. Apa insight yang bisa kita dapatkan? \n",
        "Pengumpulan dapat melalui google colab/notebook. Kata-kata penjelasan tambahan dapat ditaro di cell dalam notebook tersebut. Good luck! \n",
        "*untuk package teman-teman bebas memilih. Opsi salah satunya adalah dengan mengimport `ols` dan `qqplot` dari package `statsmodel` \n",
        "from statsmodels.formula.api import ols \n",
        "from statsmodels.api import qqplot\n"
      ]
    },
    {
      "cell_type": "code",
      "metadata": {
        "id": "QbQqO8Uly5du"
      },
      "source": [
        "df = pd.read_csv('/content/taiwan_real_estate2.csv')"
      ],
      "execution_count": null,
      "outputs": []
    },
    {
      "cell_type": "code",
      "metadata": {
        "colab": {
          "base_uri": "https://localhost:8080/",
          "height": 419
        },
        "id": "40Oy4LGE6svc",
        "outputId": "272f0d99-a587-4b13-ed20-695ab5932911"
      },
      "source": [
        "df"
      ],
      "execution_count": null,
      "outputs": [
        {
          "output_type": "execute_result",
          "data": {
            "text/html": [
              "<div>\n",
              "<style scoped>\n",
              "    .dataframe tbody tr th:only-of-type {\n",
              "        vertical-align: middle;\n",
              "    }\n",
              "\n",
              "    .dataframe tbody tr th {\n",
              "        vertical-align: top;\n",
              "    }\n",
              "\n",
              "    .dataframe thead th {\n",
              "        text-align: right;\n",
              "    }\n",
              "</style>\n",
              "<table border=\"1\" class=\"dataframe\">\n",
              "  <thead>\n",
              "    <tr style=\"text-align: right;\">\n",
              "      <th></th>\n",
              "      <th>dist_to_mrt_m</th>\n",
              "      <th>n_convenience</th>\n",
              "      <th>house_age_years</th>\n",
              "      <th>price_twd_msq</th>\n",
              "    </tr>\n",
              "  </thead>\n",
              "  <tbody>\n",
              "    <tr>\n",
              "      <th>0</th>\n",
              "      <td>84.87882</td>\n",
              "      <td>10</td>\n",
              "      <td>30 to 45</td>\n",
              "      <td>11.467474</td>\n",
              "    </tr>\n",
              "    <tr>\n",
              "      <th>1</th>\n",
              "      <td>306.59470</td>\n",
              "      <td>9</td>\n",
              "      <td>15 to 30</td>\n",
              "      <td>12.768533</td>\n",
              "    </tr>\n",
              "    <tr>\n",
              "      <th>2</th>\n",
              "      <td>561.98450</td>\n",
              "      <td>5</td>\n",
              "      <td>0 to 15</td>\n",
              "      <td>14.311649</td>\n",
              "    </tr>\n",
              "    <tr>\n",
              "      <th>3</th>\n",
              "      <td>561.98450</td>\n",
              "      <td>5</td>\n",
              "      <td>0 to 15</td>\n",
              "      <td>16.580938</td>\n",
              "    </tr>\n",
              "    <tr>\n",
              "      <th>4</th>\n",
              "      <td>390.56840</td>\n",
              "      <td>5</td>\n",
              "      <td>0 to 15</td>\n",
              "      <td>13.040847</td>\n",
              "    </tr>\n",
              "    <tr>\n",
              "      <th>...</th>\n",
              "      <td>...</td>\n",
              "      <td>...</td>\n",
              "      <td>...</td>\n",
              "      <td>...</td>\n",
              "    </tr>\n",
              "    <tr>\n",
              "      <th>409</th>\n",
              "      <td>4082.01500</td>\n",
              "      <td>0</td>\n",
              "      <td>0 to 15</td>\n",
              "      <td>4.659607</td>\n",
              "    </tr>\n",
              "    <tr>\n",
              "      <th>410</th>\n",
              "      <td>90.45606</td>\n",
              "      <td>9</td>\n",
              "      <td>0 to 15</td>\n",
              "      <td>15.128593</td>\n",
              "    </tr>\n",
              "    <tr>\n",
              "      <th>411</th>\n",
              "      <td>390.96960</td>\n",
              "      <td>7</td>\n",
              "      <td>15 to 30</td>\n",
              "      <td>12.284418</td>\n",
              "    </tr>\n",
              "    <tr>\n",
              "      <th>412</th>\n",
              "      <td>104.81010</td>\n",
              "      <td>5</td>\n",
              "      <td>0 to 15</td>\n",
              "      <td>15.885023</td>\n",
              "    </tr>\n",
              "    <tr>\n",
              "      <th>413</th>\n",
              "      <td>90.45606</td>\n",
              "      <td>9</td>\n",
              "      <td>0 to 15</td>\n",
              "      <td>19.334342</td>\n",
              "    </tr>\n",
              "  </tbody>\n",
              "</table>\n",
              "<p>414 rows × 4 columns</p>\n",
              "</div>"
            ],
            "text/plain": [
              "     dist_to_mrt_m  n_convenience house_age_years  price_twd_msq\n",
              "0         84.87882             10        30 to 45      11.467474\n",
              "1        306.59470              9        15 to 30      12.768533\n",
              "2        561.98450              5         0 to 15      14.311649\n",
              "3        561.98450              5         0 to 15      16.580938\n",
              "4        390.56840              5         0 to 15      13.040847\n",
              "..             ...            ...             ...            ...\n",
              "409     4082.01500              0         0 to 15       4.659607\n",
              "410       90.45606              9         0 to 15      15.128593\n",
              "411      390.96960              7        15 to 30      12.284418\n",
              "412      104.81010              5         0 to 15      15.885023\n",
              "413       90.45606              9         0 to 15      19.334342\n",
              "\n",
              "[414 rows x 4 columns]"
            ]
          },
          "metadata": {
            "tags": []
          },
          "execution_count": 167
        }
      ]
    },
    {
      "cell_type": "code",
      "metadata": {
        "id": "Fvhx5BKo_3GP"
      },
      "source": [
        "x = df['n_convenience']\n",
        "y= df['price_twd_msq']\n"
      ],
      "execution_count": null,
      "outputs": []
    },
    {
      "cell_type": "code",
      "metadata": {
        "id": "ebOW1u43_-Bj"
      },
      "source": [
        "#Split the data\n",
        "X_train, X_test, y_train, y_test = train_test_split(x,y,test_size=0.25,random_state=0)"
      ],
      "execution_count": null,
      "outputs": []
    },
    {
      "cell_type": "code",
      "metadata": {
        "id": "36UernGZAwUH"
      },
      "source": [
        "# Using Multiple Linear Regression\n",
        "# OLS Stands for Ordinary Least Square\n",
        "# OLS Optimization Method for Linear Regression\n",
        "# X_train = X_train\n",
        "ols_model = LinearRegression().fit(X_train.values.reshape(-1, 1), y_train)\n",
        "\n",
        "# Predict in Training Dataset\n",
        "y_train_pred = ols_model.predict(X_train.values.reshape(-1, 1))\n",
        "\n",
        "# Predict in Test Dataset\n",
        "y_test_pred = ols_model.predict(X_test.values.reshape(-1, 1))"
      ],
      "execution_count": null,
      "outputs": []
    },
    {
      "cell_type": "code",
      "metadata": {
        "colab": {
          "base_uri": "https://localhost:8080/"
        },
        "id": "KJlwB4lpBXKV",
        "outputId": "941d6b33-cb15-44f3-e684-1c385d2fece5"
      },
      "source": [
        "#nilai koefisien\n",
        "ols_model.coef_"
      ],
      "execution_count": null,
      "outputs": [
        {
          "output_type": "execute_result",
          "data": {
            "text/plain": [
              "array([0.82792541])"
            ]
          },
          "metadata": {
            "tags": []
          },
          "execution_count": 171
        }
      ]
    },
    {
      "cell_type": "code",
      "metadata": {
        "colab": {
          "base_uri": "https://localhost:8080/"
        },
        "id": "J9iDXb1QBYho",
        "outputId": "2adb2c22-96d6-4784-9e16-42af3654ae75"
      },
      "source": [
        "#nilai intercept\n",
        "ols_model.intercept_"
      ],
      "execution_count": null,
      "outputs": [
        {
          "output_type": "execute_result",
          "data": {
            "text/plain": [
              "8.210670847223653"
            ]
          },
          "metadata": {
            "tags": []
          },
          "execution_count": 172
        }
      ]
    },
    {
      "cell_type": "code",
      "metadata": {
        "colab": {
          "base_uri": "https://localhost:8080/"
        },
        "id": "U9YKflwMCJz1",
        "outputId": "6a123f6e-87fd-48e2-9069-85cf62144af9"
      },
      "source": [
        "from sklearn.metrics import r2_score\n",
        "from sklearn.metrics import mean_absolute_error\n",
        "from sklearn.metrics import mean_squared_error\n",
        "\n",
        "#R^2\n",
        "print('r2 score train =',r2_score(y_train, y_train_pred))\n",
        "print('r2 score test =',r2_score(y_test, y_test_pred))\n",
        "\n",
        "#MAE\n",
        "print('MAE train =',mean_absolute_error(y_train, y_train_pred))\n",
        "print('MAE test =',mean_absolute_error(y_test, y_test_pred))\n",
        "\n",
        "#MSE\n",
        "print('MSE train =',mean_squared_error(y_train, y_train_pred))\n",
        "print('MSE test =',mean_squared_error(y_test, y_test_pred))"
      ],
      "execution_count": null,
      "outputs": [
        {
          "output_type": "stream",
          "text": [
            "r2 score train = 0.33339319503862597\n",
            "r2 score test = 0.29300713133795697\n",
            "MAE train = 2.5561350265202885\n",
            "MAE test = 2.572561569179402\n",
            "MSE train = 11.596436411677267\n",
            "MSE test = 10.87373120659662\n"
          ],
          "name": "stdout"
        }
      ]
    },
    {
      "cell_type": "code",
      "metadata": {
        "colab": {
          "base_uri": "https://localhost:8080/"
        },
        "id": "3TA447gtCNkS",
        "outputId": "f5f76f41-5195-44cc-dce6-cde5ed3439cf"
      },
      "source": [
        "print('Nilai persamaan: y =',\"{:.2f}\".format(ols_model.coef_[0]),'n convenience+',\"{:.2f}\".format(ols_model.intercept_))"
      ],
      "execution_count": null,
      "outputs": [
        {
          "output_type": "stream",
          "text": [
            "Nilai persamaan: y = 0.83 n convenience+ 8.21\n"
          ],
          "name": "stdout"
        }
      ]
    },
    {
      "cell_type": "markdown",
      "metadata": {
        "id": "LKfVhICmCrdU"
      },
      "source": [
        "1. Buat model regresi linear dengan response variable price (kolom price_twd_msq) dan explanatory variable jumlah store yang beredar di sekitar (kolom n_convenience). Bagaimana cara kita mengukur performa model tersebut? Apa kesimpulan yang bisa ditarik?\n",
        "\n",
        "Ans: performa dapat diukur dengan menggunakan r2, MAE, MSE.\n",
        "r2 dengan menggunakan OLS linear regression cukup rendah hanya 33% untuk data train, 29% untuk data testing\n",
        "MAE di data train hampir sama dengan di data testing yaitu di 2.55 dan 2.57\n",
        "MSE data train lebih besar dibanding data test yaitu 11.60 dibanding 10.87 menandakan outlier di data train lebih besar karena data MAE nya lebih kecil\n",
        "\n",
        "Kesimpulan: linear regresi OLS belum bs memprediksi harga rumah dengan jumlah convenience karena model hanya bisa sekitar 33% dari variabel jumlah convenience karena r2 yang rendah."
      ]
    },
    {
      "cell_type": "code",
      "metadata": {
        "colab": {
          "base_uri": "https://localhost:8080/",
          "height": 282
        },
        "id": "ONUGnIFNDrF7",
        "outputId": "604cd7d2-f7d7-4370-cb42-70a5a90c4d41"
      },
      "source": [
        "import statsmodels.api as sm\n",
        "import pylab as py\n",
        "  \n",
        "diff_test= y_test-y_test_pred\n",
        "\n",
        "import statsmodels.api as sm\n",
        "sm.qqplot(diff_test,fit=True,line='45')\n",
        "plt.show()\n"
      ],
      "execution_count": null,
      "outputs": [
        {
          "output_type": "display_data",
          "data": {
            "image/png": "[encoded data removed]",
            "text/plain": [
              "<Figure size 432x288 with 1 Axes>"
            ]
          },
          "metadata": {
            "tags": [],
            "needs_background": "light"
          }
        }
      ]
    },
    {
      "cell_type": "code",
      "metadata": {
        "colab": {
          "base_uri": "https://localhost:8080/",
          "height": 279
        },
        "id": "60S8Y4HaIwpI",
        "outputId": "a136399f-8cd7-4882-ad16-bca8c0103361"
      },
      "source": [
        "diff_train= y_train-y_train_pred\n",
        "\n",
        "import statsmodels.api as sm\n",
        "sm.qqplot(diff_train,fit=True,line='45')\n",
        "plt.show()\n"
      ],
      "execution_count": null,
      "outputs": [
        {
          "output_type": "display_data",
          "data": {
            "image/png": "[encoded data removed]",
            "text/plain": [
              "<Figure size 432x288 with 1 Axes>"
            ]
          },
          "metadata": {
            "tags": [],
            "needs_background": "light"
          }
        }
      ]
    },
    {
      "cell_type": "markdown",
      "metadata": {
        "id": "xqjc_wq1JCuv"
      },
      "source": [
        "2. Buat qq-plot dari hasil model tersebut. Apa insight yang bisa kita dapatkan? Pengumpulan dapat melalui google colab/notebook. Kata-kata penjelasan tambahan dapat ditaro di cell dalam notebook tersebut. Good luck!\n",
        "\n",
        "Ans: terdapat 1 data outlier ( di atas garis dekat koordinat x=3) yang cukup besar jaraknya di data training, serta 1 data outlier ( di bawah garis dekat koordinat x=-2) yang jaraknya cukup kecil di data testing \n",
        "\n",
        "hal ini didukung dari data MSE data train yang lebih besar dari data test padahal MAE data train lebih kecil dari data test"
      ]
    }
  ]
}