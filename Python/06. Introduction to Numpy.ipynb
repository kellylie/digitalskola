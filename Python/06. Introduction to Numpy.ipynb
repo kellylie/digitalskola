{
  "nbformat": 4,
  "nbformat_minor": 0,
  "metadata": {
    "colab": {
      "name": "HW Week 6.ipynb",
      "provenance": [],
      "collapsed_sections": []
    },
    "kernelspec": {
      "name": "python3",
      "display_name": "Python 3"
    },
    "language_info": {
      "name": "python"
    }
  },
  "cells": [
    {
      "cell_type": "code",
      "metadata": {
        "colab": {
          "base_uri": "https://localhost:8080/"
        },
        "id": "OQtEFcJaYrPa",
        "outputId": "8121dad8-3adf-4453-deb1-239525e83e7a"
      },
      "source": [
        "import numpy as np\n",
        "def get_inverse_matrix_2d(M):\n",
        "  \"\"\"get inverse of matrix 2*2\"\"\"\n",
        "  try:\n",
        "    if M.shape != (2,2):\n",
        "      raise TypeError ('Matrix bukan 2x2')\n",
        "    a = M[0,0]\n",
        "    b = M[0,1]\n",
        "    c = M[1,0]\n",
        "    d = M[1,1]\n",
        "    det = ((a*d)-(b*c))\n",
        "    if det == 0:\n",
        "      raise ValueError ('Matrix tidak memiliki inverse')\n",
        "    adj = np.array([[d, -b], [-c, a]])\n",
        "    adj_M = adj * 1/det\n",
        "    return adj_M\n",
        "  except ValueError as ve:\n",
        "    print(ve)\n",
        "  except TypeError as te:\n",
        "    print (te)\n",
        "M =np.array([[4,7],\n",
        "             [2,6]])\n",
        "print(get_inverse_matrix_2d(M))"
      ],
      "execution_count": 33,
      "outputs": [
        {
          "output_type": "stream",
          "text": [
            "[[ 0.6 -0.7]\n",
            " [-0.2  0.4]]\n"
          ],
          "name": "stdout"
        }
      ]
    },
    {
      "cell_type": "code",
      "metadata": {
        "colab": {
          "base_uri": "https://localhost:8080/"
        },
        "id": "adH_lG9rwT-s",
        "outputId": "9d18beee-6aca-4124-8b92-a81ea9727f9d"
      },
      "source": [
        "M =np.array([[4],\n",
        "             [7,6]])\n",
        "print(get_inverse_matrix_2d(M))"
      ],
      "execution_count": 30,
      "outputs": [
        {
          "output_type": "stream",
          "text": [
            "Matrix bukan 2x2\n",
            "None\n"
          ],
          "name": "stdout"
        },
        {
          "output_type": "stream",
          "text": [
            "/usr/local/lib/python3.7/dist-packages/ipykernel_launcher.py:2: VisibleDeprecationWarning: Creating an ndarray from ragged nested sequences (which is a list-or-tuple of lists-or-tuples-or ndarrays with different lengths or shapes) is deprecated. If you meant to do this, you must specify 'dtype=object' when creating the ndarray\n",
            "  \n"
          ],
          "name": "stderr"
        }
      ]
    },
    {
      "cell_type": "code",
      "metadata": {
        "colab": {
          "base_uri": "https://localhost:8080/"
        },
        "id": "AOoJucLyvxkT",
        "outputId": "51d0de13-aa98-4967-d900-af9cb41d50d1"
      },
      "source": [
        "M =np.array([[4,4],\n",
        "             [4,4]])\n",
        "print(get_inverse_matrix_2d(M))"
      ],
      "execution_count": 29,
      "outputs": [
        {
          "output_type": "stream",
          "text": [
            "Matrix tidak memiliki inverse\n",
            "None\n"
          ],
          "name": "stdout"
        }
      ]
    }
  ]
}