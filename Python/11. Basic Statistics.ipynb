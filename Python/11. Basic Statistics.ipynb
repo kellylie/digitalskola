{
  "nbformat": 4,
  "nbformat_minor": 0,
  "metadata": {
    "colab": {
      "name": "HW 1.ipynb",
      "provenance": [],
      "collapsed_sections": []
    },
    "kernelspec": {
      "name": "python3",
      "display_name": "Python 3"
    },
    "language_info": {
      "name": "python"
    }
  },
  "cells": [
    {
      "cell_type": "markdown",
      "metadata": {
        "id": "z622qvdG_ZYq"
      },
      "source": [
        "Soal-soal berikut dikerjakan dengan menggunakan Python.\n",
        "\n",
        "Perhatikan data berikut:\n",
        "54, 25, 43, 3, 28, 39, 78, 32, 54, 93, 27, 33, 22, 78, 75, 83, 62, 76, 77, 67\n",
        "\n",
        "1.     Berikan statistik deskriptif mengenai data tersebut (mean, median, simpangan baku, dan kuartil)!\n",
        "2.     Apakah data tersebut mengandung pencilan? Jika ada, tentukan data yang dianggap pencilan!"
      ]
    },
    {
      "cell_type": "code",
      "metadata": {
        "id": "C3_FLI1M_I3q"
      },
      "source": [
        "import pandas as pd\n",
        "\n",
        "df = pd.DataFrame({\"data\": [54, 25, 43, 3, 28, 39, 78, 32, 54, 93, 27, 33, 22, 78, 75, 83, 62, 76, 77, 67]})"
      ],
      "execution_count": 3,
      "outputs": []
    },
    {
      "cell_type": "code",
      "metadata": {
        "colab": {
          "base_uri": "https://localhost:8080/",
          "height": 676
        },
        "id": "DVmv2ZxD_Uzu",
        "outputId": "645657d5-0cb8-440e-ddd3-174e37db990a"
      },
      "source": [
        "df"
      ],
      "execution_count": 4,
      "outputs": [
        {
          "output_type": "execute_result",
          "data": {
            "text/html": [
              "<div>\n",
              "<style scoped>\n",
              "    .dataframe tbody tr th:only-of-type {\n",
              "        vertical-align: middle;\n",
              "    }\n",
              "\n",
              "    .dataframe tbody tr th {\n",
              "        vertical-align: top;\n",
              "    }\n",
              "\n",
              "    .dataframe thead th {\n",
              "        text-align: right;\n",
              "    }\n",
              "</style>\n",
              "<table border=\"1\" class=\"dataframe\">\n",
              "  <thead>\n",
              "    <tr style=\"text-align: right;\">\n",
              "      <th></th>\n",
              "      <th>data</th>\n",
              "    </tr>\n",
              "  </thead>\n",
              "  <tbody>\n",
              "    <tr>\n",
              "      <th>0</th>\n",
              "      <td>54</td>\n",
              "    </tr>\n",
              "    <tr>\n",
              "      <th>1</th>\n",
              "      <td>25</td>\n",
              "    </tr>\n",
              "    <tr>\n",
              "      <th>2</th>\n",
              "      <td>43</td>\n",
              "    </tr>\n",
              "    <tr>\n",
              "      <th>3</th>\n",
              "      <td>3</td>\n",
              "    </tr>\n",
              "    <tr>\n",
              "      <th>4</th>\n",
              "      <td>28</td>\n",
              "    </tr>\n",
              "    <tr>\n",
              "      <th>5</th>\n",
              "      <td>39</td>\n",
              "    </tr>\n",
              "    <tr>\n",
              "      <th>6</th>\n",
              "      <td>78</td>\n",
              "    </tr>\n",
              "    <tr>\n",
              "      <th>7</th>\n",
              "      <td>32</td>\n",
              "    </tr>\n",
              "    <tr>\n",
              "      <th>8</th>\n",
              "      <td>54</td>\n",
              "    </tr>\n",
              "    <tr>\n",
              "      <th>9</th>\n",
              "      <td>93</td>\n",
              "    </tr>\n",
              "    <tr>\n",
              "      <th>10</th>\n",
              "      <td>27</td>\n",
              "    </tr>\n",
              "    <tr>\n",
              "      <th>11</th>\n",
              "      <td>33</td>\n",
              "    </tr>\n",
              "    <tr>\n",
              "      <th>12</th>\n",
              "      <td>22</td>\n",
              "    </tr>\n",
              "    <tr>\n",
              "      <th>13</th>\n",
              "      <td>78</td>\n",
              "    </tr>\n",
              "    <tr>\n",
              "      <th>14</th>\n",
              "      <td>75</td>\n",
              "    </tr>\n",
              "    <tr>\n",
              "      <th>15</th>\n",
              "      <td>83</td>\n",
              "    </tr>\n",
              "    <tr>\n",
              "      <th>16</th>\n",
              "      <td>62</td>\n",
              "    </tr>\n",
              "    <tr>\n",
              "      <th>17</th>\n",
              "      <td>76</td>\n",
              "    </tr>\n",
              "    <tr>\n",
              "      <th>18</th>\n",
              "      <td>77</td>\n",
              "    </tr>\n",
              "    <tr>\n",
              "      <th>19</th>\n",
              "      <td>67</td>\n",
              "    </tr>\n",
              "  </tbody>\n",
              "</table>\n",
              "</div>"
            ],
            "text/plain": [
              "    data\n",
              "0     54\n",
              "1     25\n",
              "2     43\n",
              "3      3\n",
              "4     28\n",
              "5     39\n",
              "6     78\n",
              "7     32\n",
              "8     54\n",
              "9     93\n",
              "10    27\n",
              "11    33\n",
              "12    22\n",
              "13    78\n",
              "14    75\n",
              "15    83\n",
              "16    62\n",
              "17    76\n",
              "18    77\n",
              "19    67"
            ]
          },
          "metadata": {
            "tags": []
          },
          "execution_count": 4
        }
      ]
    },
    {
      "cell_type": "markdown",
      "metadata": {
        "id": "G1MizJia_hd1"
      },
      "source": [
        "#1"
      ]
    },
    {
      "cell_type": "code",
      "metadata": {
        "colab": {
          "base_uri": "https://localhost:8080/",
          "height": 300
        },
        "id": "SNaxfPWl_cZH",
        "outputId": "d3742ec6-4e05-4a27-aa4f-9b24e840458c"
      },
      "source": [
        "df.describe()"
      ],
      "execution_count": 5,
      "outputs": [
        {
          "output_type": "execute_result",
          "data": {
            "text/html": [
              "<div>\n",
              "<style scoped>\n",
              "    .dataframe tbody tr th:only-of-type {\n",
              "        vertical-align: middle;\n",
              "    }\n",
              "\n",
              "    .dataframe tbody tr th {\n",
              "        vertical-align: top;\n",
              "    }\n",
              "\n",
              "    .dataframe thead th {\n",
              "        text-align: right;\n",
              "    }\n",
              "</style>\n",
              "<table border=\"1\" class=\"dataframe\">\n",
              "  <thead>\n",
              "    <tr style=\"text-align: right;\">\n",
              "      <th></th>\n",
              "      <th>data</th>\n",
              "    </tr>\n",
              "  </thead>\n",
              "  <tbody>\n",
              "    <tr>\n",
              "      <th>count</th>\n",
              "      <td>20.000000</td>\n",
              "    </tr>\n",
              "    <tr>\n",
              "      <th>mean</th>\n",
              "      <td>52.450000</td>\n",
              "    </tr>\n",
              "    <tr>\n",
              "      <th>std</th>\n",
              "      <td>25.438212</td>\n",
              "    </tr>\n",
              "    <tr>\n",
              "      <th>min</th>\n",
              "      <td>3.000000</td>\n",
              "    </tr>\n",
              "    <tr>\n",
              "      <th>25%</th>\n",
              "      <td>31.000000</td>\n",
              "    </tr>\n",
              "    <tr>\n",
              "      <th>50%</th>\n",
              "      <td>54.000000</td>\n",
              "    </tr>\n",
              "    <tr>\n",
              "      <th>75%</th>\n",
              "      <td>76.250000</td>\n",
              "    </tr>\n",
              "    <tr>\n",
              "      <th>max</th>\n",
              "      <td>93.000000</td>\n",
              "    </tr>\n",
              "  </tbody>\n",
              "</table>\n",
              "</div>"
            ],
            "text/plain": [
              "            data\n",
              "count  20.000000\n",
              "mean   52.450000\n",
              "std    25.438212\n",
              "min     3.000000\n",
              "25%    31.000000\n",
              "50%    54.000000\n",
              "75%    76.250000\n",
              "max    93.000000"
            ]
          },
          "metadata": {
            "tags": []
          },
          "execution_count": 5
        }
      ]
    },
    {
      "cell_type": "code",
      "metadata": {
        "colab": {
          "base_uri": "https://localhost:8080/"
        },
        "id": "CWe77mvSAIBu",
        "outputId": "7d12c30e-1126-48b7-f796-eb6ab5340192"
      },
      "source": [
        "df.mean()"
      ],
      "execution_count": 6,
      "outputs": [
        {
          "output_type": "execute_result",
          "data": {
            "text/plain": [
              "data    52.45\n",
              "dtype: float64"
            ]
          },
          "metadata": {
            "tags": []
          },
          "execution_count": 6
        }
      ]
    },
    {
      "cell_type": "code",
      "metadata": {
        "colab": {
          "base_uri": "https://localhost:8080/"
        },
        "id": "gVevR4OiAJq4",
        "outputId": "b38910f6-fbf5-458b-d6e2-e2cc5e4810f1"
      },
      "source": [
        "df.median()"
      ],
      "execution_count": 7,
      "outputs": [
        {
          "output_type": "execute_result",
          "data": {
            "text/plain": [
              "data    54.0\n",
              "dtype: float64"
            ]
          },
          "metadata": {
            "tags": []
          },
          "execution_count": 7
        }
      ]
    },
    {
      "cell_type": "code",
      "metadata": {
        "colab": {
          "base_uri": "https://localhost:8080/"
        },
        "id": "QqdxerR7AK98",
        "outputId": "526dafdb-b553-4519-d00d-12b5dad774dd"
      },
      "source": [
        "df.std()"
      ],
      "execution_count": 8,
      "outputs": [
        {
          "output_type": "execute_result",
          "data": {
            "text/plain": [
              "data    25.438212\n",
              "dtype: float64"
            ]
          },
          "metadata": {
            "tags": []
          },
          "execution_count": 8
        }
      ]
    },
    {
      "cell_type": "code",
      "metadata": {
        "colab": {
          "base_uri": "https://localhost:8080/",
          "height": 143
        },
        "id": "4yGvR8pUAb-A",
        "outputId": "d16409c0-ddd5-4e00-a53b-c433520fdcfd"
      },
      "source": [
        "df.quantile(q = [0.25, 0.5, 0.75])"
      ],
      "execution_count": 9,
      "outputs": [
        {
          "output_type": "execute_result",
          "data": {
            "text/html": [
              "<div>\n",
              "<style scoped>\n",
              "    .dataframe tbody tr th:only-of-type {\n",
              "        vertical-align: middle;\n",
              "    }\n",
              "\n",
              "    .dataframe tbody tr th {\n",
              "        vertical-align: top;\n",
              "    }\n",
              "\n",
              "    .dataframe thead th {\n",
              "        text-align: right;\n",
              "    }\n",
              "</style>\n",
              "<table border=\"1\" class=\"dataframe\">\n",
              "  <thead>\n",
              "    <tr style=\"text-align: right;\">\n",
              "      <th></th>\n",
              "      <th>data</th>\n",
              "    </tr>\n",
              "  </thead>\n",
              "  <tbody>\n",
              "    <tr>\n",
              "      <th>0.25</th>\n",
              "      <td>31.00</td>\n",
              "    </tr>\n",
              "    <tr>\n",
              "      <th>0.50</th>\n",
              "      <td>54.00</td>\n",
              "    </tr>\n",
              "    <tr>\n",
              "      <th>0.75</th>\n",
              "      <td>76.25</td>\n",
              "    </tr>\n",
              "  </tbody>\n",
              "</table>\n",
              "</div>"
            ],
            "text/plain": [
              "       data\n",
              "0.25  31.00\n",
              "0.50  54.00\n",
              "0.75  76.25"
            ]
          },
          "metadata": {
            "tags": []
          },
          "execution_count": 9
        }
      ]
    },
    {
      "cell_type": "markdown",
      "metadata": {
        "id": "Ww1rNqw2_kGZ"
      },
      "source": [
        "*   Mean = 52.45\n",
        "*   Median = 54\n",
        "*   Simpangan baku = 25.438212\n",
        "*   Kuartil\n",
        "\n",
        "Q1 = 31\n",
        "\n",
        "Q2 = 54\n",
        "\n",
        "Q3 = 76.25"
      ]
    },
    {
      "cell_type": "markdown",
      "metadata": {
        "id": "4lYR58sXAeKw"
      },
      "source": [
        "#2"
      ]
    },
    {
      "cell_type": "code",
      "metadata": {
        "colab": {
          "base_uri": "https://localhost:8080/"
        },
        "id": "u7-2mPbiAo1B",
        "outputId": "082550b0-42b1-4ac7-9257-85ba206a5634"
      },
      "source": [
        "Q1 = df[\"data\"].quantile(q = 0.25)\n",
        "Q3 = df[\"data\"].quantile(q = 0.75)\n",
        "\n",
        "IQR = Q3 - Q1\n",
        "IQR"
      ],
      "execution_count": 10,
      "outputs": [
        {
          "output_type": "execute_result",
          "data": {
            "text/plain": [
              "45.25"
            ]
          },
          "metadata": {
            "tags": []
          },
          "execution_count": 10
        }
      ]
    },
    {
      "cell_type": "code",
      "metadata": {
        "id": "-pw98IwYA0zu"
      },
      "source": [
        "# Pencilan/ Outlier\n",
        "upper_inner_fence = Q3 + 1.5 * IQR\n",
        "lower_inner_fence = Q1 - 1.5 * IQR\n",
        "\n",
        "upper_outer_fence = Q3 + 3 * IQR\n",
        "lower_outer_fence = Q3 - 3 * IQR"
      ],
      "execution_count": 18,
      "outputs": []
    },
    {
      "cell_type": "code",
      "metadata": {
        "colab": {
          "base_uri": "https://localhost:8080/"
        },
        "id": "DHHoHm5rA58I",
        "outputId": "8ca8c121-a548-4376-d280-caa9af93070c"
      },
      "source": [
        "print(\"Outlier atas:\")\n",
        "df[\"data\"][df[\"data\"] > upper_inner_fence][df[\"data\"] < upper_outer_fence]"
      ],
      "execution_count": 23,
      "outputs": [
        {
          "output_type": "stream",
          "text": [
            "Outlier atas:\n"
          ],
          "name": "stdout"
        },
        {
          "output_type": "execute_result",
          "data": {
            "text/plain": [
              "Series([], Name: data, dtype: int64)"
            ]
          },
          "metadata": {
            "tags": []
          },
          "execution_count": 23
        }
      ]
    },
    {
      "cell_type": "code",
      "metadata": {
        "colab": {
          "base_uri": "https://localhost:8080/"
        },
        "id": "XEWVtxSTByC7",
        "outputId": "55aa62b2-ed7f-4463-b5f0-a00caf3ea1eb"
      },
      "source": [
        "print(\"Extreme atas:\")\n",
        "df[\"data\"][df[\"data\"] > upper_outer_fence]"
      ],
      "execution_count": 19,
      "outputs": [
        {
          "output_type": "stream",
          "text": [
            "Extreme atas:\n"
          ],
          "name": "stdout"
        },
        {
          "output_type": "execute_result",
          "data": {
            "text/plain": [
              "Series([], Name: data, dtype: int64)"
            ]
          },
          "metadata": {
            "tags": []
          },
          "execution_count": 19
        }
      ]
    },
    {
      "cell_type": "code",
      "metadata": {
        "colab": {
          "base_uri": "https://localhost:8080/"
        },
        "id": "GetserUWBZRg",
        "outputId": "5af310f2-c215-49e7-e8b5-366a98d9ae39"
      },
      "source": [
        "print(\"Outlier bawah:\")\n",
        "df[\"data\"][df[\"data\"] < lower_inner_fence][df[\"data\"] > lower_outer_fence]"
      ],
      "execution_count": 25,
      "outputs": [
        {
          "output_type": "stream",
          "text": [
            "Outlier bawah:\n"
          ],
          "name": "stdout"
        },
        {
          "output_type": "execute_result",
          "data": {
            "text/plain": [
              "Series([], Name: data, dtype: int64)"
            ]
          },
          "metadata": {
            "tags": []
          },
          "execution_count": 25
        }
      ]
    },
    {
      "cell_type": "code",
      "metadata": {
        "colab": {
          "base_uri": "https://localhost:8080/"
        },
        "id": "uFTMbz2cB59x",
        "outputId": "f7b903cb-f402-4c17-9f92-ac5c544bf85b"
      },
      "source": [
        "print(\"Extreme bawah:\")\n",
        "df[\"data\"][df[\"data\"] < lower_outer_fence]"
      ],
      "execution_count": 24,
      "outputs": [
        {
          "output_type": "stream",
          "text": [
            "Extreme bawah:\n"
          ],
          "name": "stdout"
        },
        {
          "output_type": "execute_result",
          "data": {
            "text/plain": [
              "Series([], Name: data, dtype: int64)"
            ]
          },
          "metadata": {
            "tags": []
          },
          "execution_count": 24
        }
      ]
    },
    {
      "cell_type": "code",
      "metadata": {
        "colab": {
          "base_uri": "https://localhost:8080/",
          "height": 283
        },
        "id": "i_QlO5rbCPQD",
        "outputId": "6bf098c6-7c20-47a0-e86d-6f15dea7f11d"
      },
      "source": [
        "df.boxplot(column = \"data\")"
      ],
      "execution_count": 22,
      "outputs": [
        {
          "output_type": "execute_result",
          "data": {
            "text/plain": [
              "<matplotlib.axes._subplots.AxesSubplot at 0x7f6e7be88a10>"
            ]
          },
          "metadata": {
            "tags": []
          },
          "execution_count": 22
        },
        {
          "output_type": "display_data",
          "data": {
            "image/png": "[encoded data removed]",
            "text/plain": [
              "<Figure size 432x288 with 1 Axes>"
            ]
          },
          "metadata": {
            "tags": [],
            "needs_background": "light"
          }
        }
      ]
    },
    {
      "cell_type": "markdown",
      "metadata": {
        "id": "VLmgE6zaB8UV"
      },
      "source": [
        "Kesimpulan: **tidak ada data pencilan/outlier** karena semua data < (Q3 + 1.5 IQR) dan semua data > (Q1 - 1.5 IQR)"
      ]
    }
  ]
}