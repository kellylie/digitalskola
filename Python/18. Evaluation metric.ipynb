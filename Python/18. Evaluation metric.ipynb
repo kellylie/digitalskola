{
  "nbformat": 4,
  "nbformat_minor": 0,
  "metadata": {
    "colab": {
      "name": "HW 2.ipynb",
      "provenance": [],
      "collapsed_sections": []
    },
    "kernelspec": {
      "name": "python3",
      "display_name": "Python 3"
    },
    "language_info": {
      "name": "python"
    }
  },
  "cells": [
    {
      "cell_type": "markdown",
      "metadata": {
        "id": "ThyDVHpH28ba"
      },
      "source": [
        "\n",
        "Kali ini kita akan menggunakan data untuk memprediksi kelangsungan hidup pasien yang telah mengalami operasi payudara. Dengan informasi yang dimiliki terkait pasien, kita akan membuat model untuk memprediksi apakah pasien akan bertahan hidup dalam waktu lebih dari 5 tahun atau tidak.\n",
        " \n",
        "Lebih Lengkapnya kalian bisa membaca informasi tentang dataset di link berikut: https://raw.githubusercontent.com/jbrownlee/Datasets/master/haberman.names\n",
        " \n",
        "Buat model Klasifikasi Decision Tree untuk memprediksi status pasien dengan ketentuan sebagai berikut:\n",
        "1.     Bagi kedua data ini menjadi data training dan data test dengan test_size=0.25. (coding)\n",
        "2.     Pelajari tentang metrics roc_auc_score kemudian buatlah model dan evaluasi dengan menggunakan teknik cross-validation dengan scoring 'roc_auc'. Baca https://scikit-learn.org/stable/modules/generated/sklearn.model_selection.cross_val_score.html untuk menggunakan metric roc_auc saat cross-validation. (coding)\n",
        "3.     Berapa score rata-rata dari model dengan teknik cross-validation tersebut? (coding)\n",
        "4.     Prediksi data test dengan model yang telah kalian buat! (coding)\n",
        "5.     Bagaimana hasil confusion matrix dari hasil prediksi tersebut? (coding)\n",
        "6.     Bagaimana classification report dari hasil prediksi tersebut? (coding)\n",
        "7.     Seberapa baik model anda dalam memprediksi seorang pasien mempunyai status positive? (Deskriptif)\n",
        "8.     Seberapa baik model anda dalam memprediksi seorang pasien mempunyai status negatif? (Deskriptif)"
      ]
    },
    {
      "cell_type": "markdown",
      "metadata": {
        "id": "A87k_kn8S6vz"
      },
      "source": [
        "link: https://www.kaggle.com/gilsousa/habermans-survival-data-set"
      ]
    },
    {
      "cell_type": "code",
      "metadata": {
        "id": "AvDcXN5g28FC"
      },
      "source": [
        "#import library\n",
        "import pandas as pd\n",
        "import matplotlib.pyplot as plt\n",
        "import seaborn as sns\n",
        "\n",
        "from imblearn.over_sampling import SMOTE\n",
        "from sklearn.model_selection import train_test_split\n",
        "from collections import Counter\n",
        "from sklearn.tree import DecisionTreeClassifier\n",
        "from sklearn import tree,decomposition\n",
        "from sklearn.pipeline import Pipeline\n",
        "from sklearn.preprocessing import StandardScaler\n",
        "from sklearn.model_selection import cross_val_predict\n",
        "from sklearn.metrics import confusion_matrix, classification_report"
      ],
      "execution_count": 50,
      "outputs": []
    },
    {
      "cell_type": "markdown",
      "metadata": {
        "id": "M2Mz13-NUKA0"
      },
      "source": [
        "#Load Dataset"
      ]
    },
    {
      "cell_type": "code",
      "metadata": {
        "id": "x0fbCcTqTLGJ"
      },
      "source": [
        "df= pd.read_csv('haberman.csv', header=None,names=[\"Age\", \"Year\", \"Positive_axillary_nodes\", \"Survival_status\"])"
      ],
      "execution_count": 51,
      "outputs": []
    },
    {
      "cell_type": "markdown",
      "metadata": {
        "id": "M_S6c22bUCZj"
      },
      "source": [
        "Attribute Information:\n",
        "   1. Age of patient at time of operation (numerical)\n",
        "   2. Patient's year of operation (year - 1900, numerical)\n",
        "   3. Number of positive axillary nodes detected (numerical)\n",
        "   4. Survival status (class attribute)\n",
        "         1 = the patient survived 5 years or longer\n",
        "         2 = the patient died within 5 year"
      ]
    },
    {
      "cell_type": "code",
      "metadata": {
        "colab": {
          "base_uri": "https://localhost:8080/",
          "height": 419
        },
        "id": "5pgC-mczTSVy",
        "outputId": "4e5244df-276b-4d9e-e539-0ed908ab07e4"
      },
      "source": [
        "df"
      ],
      "execution_count": 52,
      "outputs": [
        {
          "output_type": "execute_result",
          "data": {
            "text/html": [
              "<div>\n",
              "<style scoped>\n",
              "    .dataframe tbody tr th:only-of-type {\n",
              "        vertical-align: middle;\n",
              "    }\n",
              "\n",
              "    .dataframe tbody tr th {\n",
              "        vertical-align: top;\n",
              "    }\n",
              "\n",
              "    .dataframe thead th {\n",
              "        text-align: right;\n",
              "    }\n",
              "</style>\n",
              "<table border=\"1\" class=\"dataframe\">\n",
              "  <thead>\n",
              "    <tr style=\"text-align: right;\">\n",
              "      <th></th>\n",
              "      <th>Age</th>\n",
              "      <th>Year</th>\n",
              "      <th>Positive_axillary_nodes</th>\n",
              "      <th>Survival_status</th>\n",
              "    </tr>\n",
              "  </thead>\n",
              "  <tbody>\n",
              "    <tr>\n",
              "      <th>0</th>\n",
              "      <td>30</td>\n",
              "      <td>64</td>\n",
              "      <td>1</td>\n",
              "      <td>1</td>\n",
              "    </tr>\n",
              "    <tr>\n",
              "      <th>1</th>\n",
              "      <td>30</td>\n",
              "      <td>62</td>\n",
              "      <td>3</td>\n",
              "      <td>1</td>\n",
              "    </tr>\n",
              "    <tr>\n",
              "      <th>2</th>\n",
              "      <td>30</td>\n",
              "      <td>65</td>\n",
              "      <td>0</td>\n",
              "      <td>1</td>\n",
              "    </tr>\n",
              "    <tr>\n",
              "      <th>3</th>\n",
              "      <td>31</td>\n",
              "      <td>59</td>\n",
              "      <td>2</td>\n",
              "      <td>1</td>\n",
              "    </tr>\n",
              "    <tr>\n",
              "      <th>4</th>\n",
              "      <td>31</td>\n",
              "      <td>65</td>\n",
              "      <td>4</td>\n",
              "      <td>1</td>\n",
              "    </tr>\n",
              "    <tr>\n",
              "      <th>...</th>\n",
              "      <td>...</td>\n",
              "      <td>...</td>\n",
              "      <td>...</td>\n",
              "      <td>...</td>\n",
              "    </tr>\n",
              "    <tr>\n",
              "      <th>301</th>\n",
              "      <td>75</td>\n",
              "      <td>62</td>\n",
              "      <td>1</td>\n",
              "      <td>1</td>\n",
              "    </tr>\n",
              "    <tr>\n",
              "      <th>302</th>\n",
              "      <td>76</td>\n",
              "      <td>67</td>\n",
              "      <td>0</td>\n",
              "      <td>1</td>\n",
              "    </tr>\n",
              "    <tr>\n",
              "      <th>303</th>\n",
              "      <td>77</td>\n",
              "      <td>65</td>\n",
              "      <td>3</td>\n",
              "      <td>1</td>\n",
              "    </tr>\n",
              "    <tr>\n",
              "      <th>304</th>\n",
              "      <td>78</td>\n",
              "      <td>65</td>\n",
              "      <td>1</td>\n",
              "      <td>2</td>\n",
              "    </tr>\n",
              "    <tr>\n",
              "      <th>305</th>\n",
              "      <td>83</td>\n",
              "      <td>58</td>\n",
              "      <td>2</td>\n",
              "      <td>2</td>\n",
              "    </tr>\n",
              "  </tbody>\n",
              "</table>\n",
              "<p>306 rows × 4 columns</p>\n",
              "</div>"
            ],
            "text/plain": [
              "     Age  Year  Positive_axillary_nodes  Survival_status\n",
              "0     30    64                        1                1\n",
              "1     30    62                        3                1\n",
              "2     30    65                        0                1\n",
              "3     31    59                        2                1\n",
              "4     31    65                        4                1\n",
              "..   ...   ...                      ...              ...\n",
              "301   75    62                        1                1\n",
              "302   76    67                        0                1\n",
              "303   77    65                        3                1\n",
              "304   78    65                        1                2\n",
              "305   83    58                        2                2\n",
              "\n",
              "[306 rows x 4 columns]"
            ]
          },
          "metadata": {
            "tags": []
          },
          "execution_count": 52
        }
      ]
    },
    {
      "cell_type": "markdown",
      "metadata": {
        "id": "t2c7yV-OUMOS"
      },
      "source": [
        "#Data Preprocess"
      ]
    },
    {
      "cell_type": "code",
      "metadata": {
        "colab": {
          "base_uri": "https://localhost:8080/",
          "height": 297
        },
        "id": "D76QmS_rUnQX",
        "outputId": "92b4f286-8371-4d53-8e5a-e553ede84390"
      },
      "source": [
        "#check data\n",
        "df.describe()"
      ],
      "execution_count": 53,
      "outputs": [
        {
          "output_type": "execute_result",
          "data": {
            "text/html": [
              "<div>\n",
              "<style scoped>\n",
              "    .dataframe tbody tr th:only-of-type {\n",
              "        vertical-align: middle;\n",
              "    }\n",
              "\n",
              "    .dataframe tbody tr th {\n",
              "        vertical-align: top;\n",
              "    }\n",
              "\n",
              "    .dataframe thead th {\n",
              "        text-align: right;\n",
              "    }\n",
              "</style>\n",
              "<table border=\"1\" class=\"dataframe\">\n",
              "  <thead>\n",
              "    <tr style=\"text-align: right;\">\n",
              "      <th></th>\n",
              "      <th>Age</th>\n",
              "      <th>Year</th>\n",
              "      <th>Positive_axillary_nodes</th>\n",
              "      <th>Survival_status</th>\n",
              "    </tr>\n",
              "  </thead>\n",
              "  <tbody>\n",
              "    <tr>\n",
              "      <th>count</th>\n",
              "      <td>306.000000</td>\n",
              "      <td>306.000000</td>\n",
              "      <td>306.000000</td>\n",
              "      <td>306.000000</td>\n",
              "    </tr>\n",
              "    <tr>\n",
              "      <th>mean</th>\n",
              "      <td>52.457516</td>\n",
              "      <td>62.852941</td>\n",
              "      <td>4.026144</td>\n",
              "      <td>1.264706</td>\n",
              "    </tr>\n",
              "    <tr>\n",
              "      <th>std</th>\n",
              "      <td>10.803452</td>\n",
              "      <td>3.249405</td>\n",
              "      <td>7.189654</td>\n",
              "      <td>0.441899</td>\n",
              "    </tr>\n",
              "    <tr>\n",
              "      <th>min</th>\n",
              "      <td>30.000000</td>\n",
              "      <td>58.000000</td>\n",
              "      <td>0.000000</td>\n",
              "      <td>1.000000</td>\n",
              "    </tr>\n",
              "    <tr>\n",
              "      <th>25%</th>\n",
              "      <td>44.000000</td>\n",
              "      <td>60.000000</td>\n",
              "      <td>0.000000</td>\n",
              "      <td>1.000000</td>\n",
              "    </tr>\n",
              "    <tr>\n",
              "      <th>50%</th>\n",
              "      <td>52.000000</td>\n",
              "      <td>63.000000</td>\n",
              "      <td>1.000000</td>\n",
              "      <td>1.000000</td>\n",
              "    </tr>\n",
              "    <tr>\n",
              "      <th>75%</th>\n",
              "      <td>60.750000</td>\n",
              "      <td>65.750000</td>\n",
              "      <td>4.000000</td>\n",
              "      <td>2.000000</td>\n",
              "    </tr>\n",
              "    <tr>\n",
              "      <th>max</th>\n",
              "      <td>83.000000</td>\n",
              "      <td>69.000000</td>\n",
              "      <td>52.000000</td>\n",
              "      <td>2.000000</td>\n",
              "    </tr>\n",
              "  </tbody>\n",
              "</table>\n",
              "</div>"
            ],
            "text/plain": [
              "              Age        Year  Positive_axillary_nodes  Survival_status\n",
              "count  306.000000  306.000000               306.000000       306.000000\n",
              "mean    52.457516   62.852941                 4.026144         1.264706\n",
              "std     10.803452    3.249405                 7.189654         0.441899\n",
              "min     30.000000   58.000000                 0.000000         1.000000\n",
              "25%     44.000000   60.000000                 0.000000         1.000000\n",
              "50%     52.000000   63.000000                 1.000000         1.000000\n",
              "75%     60.750000   65.750000                 4.000000         2.000000\n",
              "max     83.000000   69.000000                52.000000         2.000000"
            ]
          },
          "metadata": {
            "tags": []
          },
          "execution_count": 53
        }
      ]
    },
    {
      "cell_type": "code",
      "metadata": {
        "colab": {
          "base_uri": "https://localhost:8080/"
        },
        "id": "jUGRGalRUN9W",
        "outputId": "4ea03c80-1d54-4ef6-b783-5a9a573e40ec"
      },
      "source": [
        "#check missing value\n",
        "df.isnull().sum()"
      ],
      "execution_count": 54,
      "outputs": [
        {
          "output_type": "execute_result",
          "data": {
            "text/plain": [
              "Age                        0\n",
              "Year                       0\n",
              "Positive_axillary_nodes    0\n",
              "Survival_status            0\n",
              "dtype: int64"
            ]
          },
          "metadata": {
            "tags": []
          },
          "execution_count": 54
        }
      ]
    },
    {
      "cell_type": "code",
      "metadata": {
        "id": "w65Vkd3_UafJ"
      },
      "source": [
        "# Change not survived to 0\n",
        "df = df.assign(Survival_status = [0 if Survival_status == 2 else 1 for Survival_status in df['Survival_status']])"
      ],
      "execution_count": 55,
      "outputs": []
    },
    {
      "cell_type": "code",
      "metadata": {
        "colab": {
          "base_uri": "https://localhost:8080/"
        },
        "id": "5PhPElS5VJqJ",
        "outputId": "417e4ea0-a32b-4708-c73e-fac0b75a633d"
      },
      "source": [
        "#check target\n",
        "print(Counter(df['Survival_status']))"
      ],
      "execution_count": 56,
      "outputs": [
        {
          "output_type": "stream",
          "text": [
            "Counter({1: 225, 0: 81})\n"
          ],
          "name": "stdout"
        }
      ]
    },
    {
      "cell_type": "code",
      "metadata": {
        "id": "ZVVDeF6sVl8K"
      },
      "source": [
        "#separate future data and target data\n",
        "X=df.drop(['Survival_status'],1)\n",
        "y=df['Survival_status']"
      ],
      "execution_count": 57,
      "outputs": []
    },
    {
      "cell_type": "code",
      "metadata": {
        "id": "rcl6n8o_VqYe"
      },
      "source": [
        "#no 1: Bagi kedua data ini menjadi data training dan data test dengan test_size=0.25\n",
        "X_train, X_test, y_train, y_test= train_test_split(X,y, test_size=0.25, stratify=y, random_state=0)"
      ],
      "execution_count": 58,
      "outputs": []
    },
    {
      "cell_type": "code",
      "metadata": {
        "colab": {
          "base_uri": "https://localhost:8080/"
        },
        "id": "V8VFHVC8Vspo",
        "outputId": "618383c0-b17c-437c-8acf-8d2cece7291b"
      },
      "source": [
        "Counter(y_train)"
      ],
      "execution_count": 59,
      "outputs": [
        {
          "output_type": "execute_result",
          "data": {
            "text/plain": [
              "Counter({0: 61, 1: 168})"
            ]
          },
          "metadata": {
            "tags": []
          },
          "execution_count": 59
        }
      ]
    },
    {
      "cell_type": "code",
      "metadata": {
        "colab": {
          "base_uri": "https://localhost:8080/"
        },
        "id": "a3ZKZ_cSVxSu",
        "outputId": "2b44dc80-3b0c-4149-a6ea-641d94880c7c"
      },
      "source": [
        "#handling imbalance dataset\n",
        "\n",
        "smote = SMOTE()\n",
        "X_smote, y_smote = smote.fit_resample(X_train,y_train)"
      ],
      "execution_count": 60,
      "outputs": [
        {
          "output_type": "stream",
          "text": [
            "/usr/local/lib/python3.7/dist-packages/sklearn/utils/deprecation.py:87: FutureWarning: Function safe_indexing is deprecated; safe_indexing is deprecated in version 0.22 and will be removed in version 0.24.\n",
            "  warnings.warn(msg, category=FutureWarning)\n"
          ],
          "name": "stderr"
        }
      ]
    },
    {
      "cell_type": "markdown",
      "metadata": {
        "id": "2fSWuxErWE4f"
      },
      "source": [
        "#Modelling"
      ]
    },
    {
      "cell_type": "code",
      "metadata": {
        "id": "f8PbSIjHY2z6"
      },
      "source": [
        "dec_tree = tree.DecisionTreeClassifier()\n",
        "std_slc= StandardScaler()\n",
        "pca = decomposition.PCA()\n",
        "\n",
        "pipe = Pipeline(steps=[('std_slc', std_slc),\n",
        "                        ('pca', pca),\n",
        "                        ('dec_tree', dec_tree)])"
      ],
      "execution_count": 61,
      "outputs": []
    },
    {
      "cell_type": "code",
      "metadata": {
        "id": "rpAfdKytZl1j"
      },
      "source": [
        "n_components = list(range(1,X.shape[1]+1,1))\n",
        "criterion = ['gini', 'entropy']\n",
        "max_depth = [2,4,6,8,10,12]\n",
        "parameters = dict(pca__n_components=n_components,\n",
        "                  dec_tree__criterion=criterion,\n",
        "                  dec_tree__max_depth=max_depth)"
      ],
      "execution_count": 62,
      "outputs": []
    },
    {
      "cell_type": "code",
      "metadata": {
        "colab": {
          "base_uri": "https://localhost:8080/"
        },
        "id": "4lQQNBRLZyev",
        "outputId": "266a9a47-a6f4-40d5-ca62-fb01ad346502"
      },
      "source": [
        "from sklearn.model_selection import GridSearchCV, cross_val_score\n",
        "clf_GS = GridSearchCV(pipe, parameters)\n",
        "clf_GS.fit(X_smote, y_smote)"
      ],
      "execution_count": 63,
      "outputs": [
        {
          "output_type": "execute_result",
          "data": {
            "text/plain": [
              "GridSearchCV(cv=None, error_score=nan,\n",
              "             estimator=Pipeline(memory=None,\n",
              "                                steps=[('std_slc',\n",
              "                                        StandardScaler(copy=True,\n",
              "                                                       with_mean=True,\n",
              "                                                       with_std=True)),\n",
              "                                       ('pca',\n",
              "                                        PCA(copy=True, iterated_power='auto',\n",
              "                                            n_components=None,\n",
              "                                            random_state=None,\n",
              "                                            svd_solver='auto', tol=0.0,\n",
              "                                            whiten=False)),\n",
              "                                       ('dec_tree',\n",
              "                                        DecisionTreeClassifier(ccp_alpha=0.0,\n",
              "                                                               class_weight=None,\n",
              "                                                               criterion='gini',\n",
              "                                                               max_...\n",
              "                                                               min_samples_split=2,\n",
              "                                                               min_weight_fraction_leaf=0.0,\n",
              "                                                               presort='deprecated',\n",
              "                                                               random_state=None,\n",
              "                                                               splitter='best'))],\n",
              "                                verbose=False),\n",
              "             iid='deprecated', n_jobs=None,\n",
              "             param_grid={'dec_tree__criterion': ['gini', 'entropy'],\n",
              "                         'dec_tree__max_depth': [2, 4, 6, 8, 10, 12],\n",
              "                         'pca__n_components': [1, 2, 3]},\n",
              "             pre_dispatch='2*n_jobs', refit=True, return_train_score=False,\n",
              "             scoring=None, verbose=0)"
            ]
          },
          "metadata": {
            "tags": []
          },
          "execution_count": 63
        }
      ]
    },
    {
      "cell_type": "code",
      "metadata": {
        "colab": {
          "base_uri": "https://localhost:8080/"
        },
        "id": "-BrlovmrZ6p7",
        "outputId": "20ea6569-b352-443c-f15a-61a813f819b3"
      },
      "source": [
        "print('Best Criterion:', clf_GS.best_estimator_.get_params()['dec_tree__criterion'])\n",
        "print('Best max_depth:', clf_GS.best_estimator_.get_params()['dec_tree__max_depth'])\n",
        "print('Best Number Of Components:', clf_GS.best_estimator_.get_params()['pca__n_components'])\n",
        "print(); print(clf_GS.best_estimator_.get_params()['dec_tree'])"
      ],
      "execution_count": 64,
      "outputs": [
        {
          "output_type": "stream",
          "text": [
            "Best Criterion: entropy\n",
            "Best max_depth: 12\n",
            "Best Number Of Components: 3\n",
            "\n",
            "DecisionTreeClassifier(ccp_alpha=0.0, class_weight=None, criterion='entropy',\n",
            "                       max_depth=12, max_features=None, max_leaf_nodes=None,\n",
            "                       min_impurity_decrease=0.0, min_impurity_split=None,\n",
            "                       min_samples_leaf=1, min_samples_split=2,\n",
            "                       min_weight_fraction_leaf=0.0, presort='deprecated',\n",
            "                       random_state=None, splitter='best')\n"
          ],
          "name": "stdout"
        }
      ]
    },
    {
      "cell_type": "code",
      "metadata": {
        "id": "nCiqzloeaCyV"
      },
      "source": [
        "clf= DecisionTreeClassifier(ccp_alpha=0.0, class_weight=None, criterion='entropy',\n",
        "                       max_depth=12, max_features=None, max_leaf_nodes=None,\n",
        "                       min_impurity_decrease=0.0, min_impurity_split=None,\n",
        "                       min_samples_leaf=1, min_samples_split=2,\n",
        "                       min_weight_fraction_leaf=0.0, presort='deprecated',\n",
        "                       random_state=None, splitter='best')"
      ],
      "execution_count": 74,
      "outputs": []
    },
    {
      "cell_type": "code",
      "metadata": {
        "colab": {
          "base_uri": "https://localhost:8080/"
        },
        "id": "qOLVkNRGaj8A",
        "outputId": "38a299f2-b6ac-40de-f759-dba35ccb55f0"
      },
      "source": [
        "clf.fit(X_smote, y_smote)"
      ],
      "execution_count": 75,
      "outputs": [
        {
          "output_type": "execute_result",
          "data": {
            "text/plain": [
              "DecisionTreeClassifier(ccp_alpha=0.0, class_weight=None, criterion='entropy',\n",
              "                       max_depth=12, max_features=None, max_leaf_nodes=None,\n",
              "                       min_impurity_decrease=0.0, min_impurity_split=None,\n",
              "                       min_samples_leaf=1, min_samples_split=2,\n",
              "                       min_weight_fraction_leaf=0.0, presort='deprecated',\n",
              "                       random_state=None, splitter='best')"
            ]
          },
          "metadata": {
            "tags": []
          },
          "execution_count": 75
        }
      ]
    },
    {
      "cell_type": "markdown",
      "metadata": {
        "id": "UKwapjC3dbDS"
      },
      "source": [
        "#Cross Validation"
      ]
    },
    {
      "cell_type": "code",
      "metadata": {
        "colab": {
          "base_uri": "https://localhost:8080/"
        },
        "id": "R631gb0ZcilE",
        "outputId": "6b9dbefa-8bae-4e7f-a70d-660b29569f8f"
      },
      "source": [
        "crossval_scores = cross_val_score(DecisionTreeClassifier(), X_smote, y_smote, scoring='roc_auc', cv=10)\n",
        "crossval_scores"
      ],
      "execution_count": 76,
      "outputs": [
        {
          "output_type": "execute_result",
          "data": {
            "text/plain": [
              "array([0.52941176, 0.75432526, 0.55882353, 0.73529412, 0.74913495,\n",
              "       0.67647059, 0.81617647, 0.72426471, 0.75919118, 0.85294118])"
            ]
          },
          "metadata": {
            "tags": []
          },
          "execution_count": 76
        }
      ]
    },
    {
      "cell_type": "code",
      "metadata": {
        "colab": {
          "base_uri": "https://localhost:8080/"
        },
        "id": "kkrMUHzvc71S",
        "outputId": "5b2711d7-015a-4615-ee2f-719dfc77b6e0"
      },
      "source": [
        "crossval_scores.mean()"
      ],
      "execution_count": 77,
      "outputs": [
        {
          "output_type": "execute_result",
          "data": {
            "text/plain": [
              "0.7156033737024222"
            ]
          },
          "metadata": {
            "tags": []
          },
          "execution_count": 77
        }
      ]
    },
    {
      "cell_type": "markdown",
      "metadata": {
        "id": "w813jeGpdi3h"
      },
      "source": [
        "no 2: nilai cross validation score = [0.52941176, 0.75432526, 0.55882353, 0.73529412, 0.74913495, 0.67647059, 0.81617647, 0.72426471, 0.75919118, 0.85294118]\n",
        "\n",
        "no 3: nilai rata-rata cross validation score = 0.72"
      ]
    },
    {
      "cell_type": "markdown",
      "metadata": {
        "id": "HDwUCDi4e7pj"
      },
      "source": [
        "#Prediction"
      ]
    },
    {
      "cell_type": "code",
      "metadata": {
        "colab": {
          "base_uri": "https://localhost:8080/"
        },
        "id": "QT0HbKmNe8-B",
        "outputId": "b59bb19d-69dd-441e-fa8d-ae22a96eeded"
      },
      "source": [
        "#no 4: Prediksi data test dengan model yang telah kalian buat\n",
        "y_test_pred = clf.predict(X_test)\n",
        "y_test_pred"
      ],
      "execution_count": 78,
      "outputs": [
        {
          "output_type": "execute_result",
          "data": {
            "text/plain": [
              "array([1, 0, 1, 0, 1, 0, 1, 1, 1, 1, 1, 1, 1, 1, 1, 1, 1, 1, 1, 1, 1, 1,\n",
              "       1, 0, 0, 1, 1, 1, 1, 0, 0, 1, 1, 1, 0, 1, 0, 0, 0, 1, 0, 1, 1, 1,\n",
              "       1, 1, 1, 0, 1, 1, 0, 1, 1, 1, 1, 0, 1, 1, 0, 1, 0, 1, 0, 0, 1, 1,\n",
              "       0, 0, 1, 1, 0, 0, 1, 1, 0, 1, 0])"
            ]
          },
          "metadata": {
            "tags": []
          },
          "execution_count": 78
        }
      ]
    },
    {
      "cell_type": "markdown",
      "metadata": {
        "id": "ahnqb7HueAi2"
      },
      "source": [
        "#Confusion Matrix"
      ]
    },
    {
      "cell_type": "code",
      "metadata": {
        "colab": {
          "base_uri": "https://localhost:8080/"
        },
        "id": "Z8JSlQoieFwC",
        "outputId": "c4b80157-27f7-48ca-b7d3-3f0123606610"
      },
      "source": [
        "#no 5: Bagaimana hasil confusion matrix dari hasil prediksi tersebut?\n",
        "y_train_pred = cross_val_predict(clf, X_smote, y_smote)\n",
        "confusion_matrix(y_smote, y_train_pred)"
      ],
      "execution_count": 79,
      "outputs": [
        {
          "output_type": "execute_result",
          "data": {
            "text/plain": [
              "array([[127,  41],\n",
              "       [ 52, 116]])"
            ]
          },
          "metadata": {
            "tags": []
          },
          "execution_count": 79
        }
      ]
    },
    {
      "cell_type": "code",
      "metadata": {
        "colab": {
          "base_uri": "https://localhost:8080/"
        },
        "id": "DKdssCSQemNH",
        "outputId": "d8c25be6-0cdc-41f7-f069-526803f06fdd"
      },
      "source": [
        "predictions1 = cross_val_predict(clf, X_test, y_test)\n",
        "confusion_matrix(y_test, predictions1)"
      ],
      "execution_count": 80,
      "outputs": [
        {
          "output_type": "execute_result",
          "data": {
            "text/plain": [
              "array([[ 7, 13],\n",
              "       [12, 45]])"
            ]
          },
          "metadata": {
            "tags": []
          },
          "execution_count": 80
        }
      ]
    },
    {
      "cell_type": "markdown",
      "metadata": {
        "id": "UX1dSE0hIO_p"
      },
      "source": [
        "#Classification Report"
      ]
    },
    {
      "cell_type": "code",
      "metadata": {
        "colab": {
          "base_uri": "https://localhost:8080/"
        },
        "id": "ML4qtutrINlV",
        "outputId": "44b13374-0910-41e6-e42a-b10217a66a9d"
      },
      "source": [
        "#no 6: Bagaimana classification report dari hasil prediksi tersebut?\n",
        "print(classification_report(y_smote, y_train_pred))"
      ],
      "execution_count": 81,
      "outputs": [
        {
          "output_type": "stream",
          "text": [
            "              precision    recall  f1-score   support\n",
            "\n",
            "           0       0.71      0.76      0.73       168\n",
            "           1       0.74      0.69      0.71       168\n",
            "\n",
            "    accuracy                           0.72       336\n",
            "   macro avg       0.72      0.72      0.72       336\n",
            "weighted avg       0.72      0.72      0.72       336\n",
            "\n"
          ],
          "name": "stdout"
        }
      ]
    },
    {
      "cell_type": "code",
      "metadata": {
        "colab": {
          "base_uri": "https://localhost:8080/"
        },
        "id": "3ihuGxS-Ji6d",
        "outputId": "52eb6b9d-bd01-474e-80c4-06952a154c5b"
      },
      "source": [
        "print(classification_report(y_test, y_test_pred))"
      ],
      "execution_count": 82,
      "outputs": [
        {
          "output_type": "stream",
          "text": [
            "              precision    recall  f1-score   support\n",
            "\n",
            "           0       0.28      0.35      0.31        20\n",
            "           1       0.75      0.68      0.72        57\n",
            "\n",
            "    accuracy                           0.60        77\n",
            "   macro avg       0.52      0.52      0.51        77\n",
            "weighted avg       0.63      0.60      0.61        77\n",
            "\n"
          ],
          "name": "stdout"
        }
      ]
    },
    {
      "cell_type": "markdown",
      "metadata": {
        "id": "IiL3ft2nI07W"
      },
      "source": [
        "notes: 1 = the patient survived 5 years or longer, 0 = the patient died within 5 year\n",
        "\n",
        "7. Seberapa baik model anda dalam memprediksi seorang pasien mempunyai status positive? (Deskriptif)\n",
        "Prediction di model training = 0.71 untuk prediksi pasien yang tidak bertahan dalam 5 tahun\n",
        "Recall di model training = 0.76 untuk prediksi pasien yang tidak bertahan dalam 5 tahun\n",
        "Tetapi, di model testing data precision & recall cukup rendah yaitu hanya 0.28 dan 0.35\n",
        "Artinya jika diberikan data baru, model masih belum mampu memprediksi dengan baik apakah seseorang akan mati dalam 5 tahun\n",
        "\n",
        "8. Seberapa baik model anda dalam memprediksi seorang pasien mempunyai status negatif? (Deskriptif)\n",
        "Prediction di model training = 0.74  untuk prediksi pasien yang tidak bertahan dalam 5 tahun\n",
        "Recall di model training = 0.69 untuk prediksi pasien yang tidak bertahan dalam 5 tahun\n",
        "Di model testing data precision & recall cukup stabil yaitu hanya 0.75 dan 0.68\n",
        "Artinya model mampu memprediksi dengan baik apakah seseorang tidak akan mati dalam 5 tahun"
      ]
    }
  ]
}