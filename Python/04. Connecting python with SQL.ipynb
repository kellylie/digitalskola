{
  "nbformat": 4,
  "nbformat_minor": 0,
  "metadata": {
    "colab": {
      "name": "HW 2.ipynb",
      "provenance": [],
      "collapsed_sections": []
    },
    "kernelspec": {
      "name": "python3",
      "display_name": "Python 3"
    },
    "language_info": {
      "name": "python"
    }
  },
  "cells": [
    {
      "cell_type": "markdown",
      "metadata": {
        "id": "8_D-uunxBVPx"
      },
      "source": [
        "Pada sesi ini, kita telah belajar tentang penggunaan Python untuk berkomunikasi dengan database. Coba teman-teman tuliskan program di Python untuk mengakses table yang ada di database sandbox, pilih dua table yang bisa dilakukan JOIN, satukan dua table tersebut menggunakan perintah SQL, lalu jadikan hasil akhir table tersebut menjadi format excel.\n",
        "\n",
        "Atau singkatnya:\n",
        "\n",
        "a. code untuk menghubungkan Python ke database sandbox\n",
        "\n",
        "b. code sekaligus query SQL untuk menyatukan dua table yang teman-teman pilih\n",
        "\n",
        "c. code untuk mengubah table menjadi file excel"
      ]
    },
    {
      "cell_type": "code",
      "metadata": {
        "colab": {
          "base_uri": "https://localhost:8080/"
        },
        "id": "eWn2SxaoBUVY",
        "outputId": "3000b2a8-9ab1-499c-d673-552582500f3b"
      },
      "source": [
        "#code untuk menghubungkan Pythone ke database sandbox\n",
        "import psycopg2\n",
        "connection = psycopg2.connect(host = \"digitalskoladb.c04me33o8tni.ap-southeast-1.rds.amazonaws.com\",\n",
        "                              port = 5432,\n",
        "                              database = \"sandbox\",\n",
        "                              user = \"group_06\",\n",
        "                              password = \"jJwz9KL22x4Prb3LXEJw23HYT\")"
      ],
      "execution_count": 2,
      "outputs": [
        {
          "output_type": "stream",
          "text": [
            "/usr/local/lib/python3.7/dist-packages/psycopg2/__init__.py:144: UserWarning: The psycopg2 wheel package will be renamed from release 2.8; in order to keep installing from binary please use \"pip install psycopg2-binary\" instead. For details see: <http://initd.org/psycopg/docs/install.html#binary-install-from-pypi>.\n",
            "  \"\"\")\n"
          ],
          "name": "stderr"
        }
      ]
    },
    {
      "cell_type": "code",
      "metadata": {
        "colab": {
          "base_uri": "https://localhost:8080/",
          "height": 415
        },
        "id": "UQGoIBqaCYm0",
        "outputId": "654d0fc5-c78f-4aab-9bc7-a272defd0a6f"
      },
      "source": [
        "#code sekaligus query SQL untuk menyatukan dua table yang teman-teman pilih\n",
        "import pandas as pd\n",
        "sql = \"select first_name, last_name, department_name from sandbox.datasource.employees emp left join sandbox.datasource.departments dept on emp.department_id = dept.department_id\"\n",
        "data = pd.read_sql(sql, con= connection)\n",
        "data"
      ],
      "execution_count": 15,
      "outputs": [
        {
          "output_type": "execute_result",
          "data": {
            "text/html": [
              "<div>\n",
              "<style scoped>\n",
              "    .dataframe tbody tr th:only-of-type {\n",
              "        vertical-align: middle;\n",
              "    }\n",
              "\n",
              "    .dataframe tbody tr th {\n",
              "        vertical-align: top;\n",
              "    }\n",
              "\n",
              "    .dataframe thead th {\n",
              "        text-align: right;\n",
              "    }\n",
              "</style>\n",
              "<table border=\"1\" class=\"dataframe\">\n",
              "  <thead>\n",
              "    <tr style=\"text-align: right;\">\n",
              "      <th></th>\n",
              "      <th>first_name</th>\n",
              "      <th>last_name</th>\n",
              "      <th>department_name</th>\n",
              "    </tr>\n",
              "  </thead>\n",
              "  <tbody>\n",
              "    <tr>\n",
              "      <th>0</th>\n",
              "      <td>Steven</td>\n",
              "      <td>King</td>\n",
              "      <td>Executive</td>\n",
              "    </tr>\n",
              "    <tr>\n",
              "      <th>1</th>\n",
              "      <td>Neena</td>\n",
              "      <td>Kochhar</td>\n",
              "      <td>Executive</td>\n",
              "    </tr>\n",
              "    <tr>\n",
              "      <th>2</th>\n",
              "      <td>Lex</td>\n",
              "      <td>De Haan</td>\n",
              "      <td>Executive</td>\n",
              "    </tr>\n",
              "    <tr>\n",
              "      <th>3</th>\n",
              "      <td>Alexander</td>\n",
              "      <td>Hunold</td>\n",
              "      <td>IT</td>\n",
              "    </tr>\n",
              "    <tr>\n",
              "      <th>4</th>\n",
              "      <td>Bruce</td>\n",
              "      <td>Ernst</td>\n",
              "      <td>IT</td>\n",
              "    </tr>\n",
              "    <tr>\n",
              "      <th>...</th>\n",
              "      <td>...</td>\n",
              "      <td>...</td>\n",
              "      <td>...</td>\n",
              "    </tr>\n",
              "    <tr>\n",
              "      <th>102</th>\n",
              "      <td>Pat</td>\n",
              "      <td>Fay</td>\n",
              "      <td>Marketing</td>\n",
              "    </tr>\n",
              "    <tr>\n",
              "      <th>103</th>\n",
              "      <td>Susan</td>\n",
              "      <td>Mavris</td>\n",
              "      <td>Human Resources</td>\n",
              "    </tr>\n",
              "    <tr>\n",
              "      <th>104</th>\n",
              "      <td>Hermann</td>\n",
              "      <td>Baer</td>\n",
              "      <td>Public Relations</td>\n",
              "    </tr>\n",
              "    <tr>\n",
              "      <th>105</th>\n",
              "      <td>Shelley</td>\n",
              "      <td>Higgins</td>\n",
              "      <td>Accounting</td>\n",
              "    </tr>\n",
              "    <tr>\n",
              "      <th>106</th>\n",
              "      <td>William</td>\n",
              "      <td>Gietz</td>\n",
              "      <td>Accounting</td>\n",
              "    </tr>\n",
              "  </tbody>\n",
              "</table>\n",
              "<p>107 rows × 3 columns</p>\n",
              "</div>"
            ],
            "text/plain": [
              "    first_name last_name   department_name\n",
              "0       Steven      King         Executive\n",
              "1        Neena   Kochhar         Executive\n",
              "2          Lex   De Haan         Executive\n",
              "3    Alexander    Hunold                IT\n",
              "4        Bruce     Ernst                IT\n",
              "..         ...       ...               ...\n",
              "102        Pat       Fay         Marketing\n",
              "103      Susan    Mavris   Human Resources\n",
              "104    Hermann      Baer  Public Relations\n",
              "105    Shelley   Higgins        Accounting\n",
              "106    William     Gietz        Accounting\n",
              "\n",
              "[107 rows x 3 columns]"
            ]
          },
          "metadata": {
            "tags": []
          },
          "execution_count": 15
        }
      ]
    },
    {
      "cell_type": "code",
      "metadata": {
        "id": "TVECd3maEUAQ"
      },
      "source": [
        "#code untuk mengubah table menjadi file excel\n",
        "data.to_excel(\"data.xlsx\",index=False)"
      ],
      "execution_count": 16,
      "outputs": []
    }
  ]
}