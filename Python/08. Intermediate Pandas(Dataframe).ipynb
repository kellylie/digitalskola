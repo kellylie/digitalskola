{
  "nbformat": 4,
  "nbformat_minor": 0,
  "metadata": {
    "colab": {
      "name": "HW 1.ipynb",
      "provenance": [],
      "collapsed_sections": []
    },
    "kernelspec": {
      "name": "python3",
      "display_name": "Python 3"
    },
    "language_info": {
      "name": "python"
    }
  },
  "cells": [
    {
      "cell_type": "markdown",
      "metadata": {
        "id": "0gsp7U9nPaZc"
      },
      "source": [
        "Lakukan proses manipulasi dataframe sehingga dataframe akhir yang dimiliki teman-teman memiliki susunan column sebagai berikut :\n",
        "first_name | last_name | salary | departments_name | city\n",
        "serta diurutkan dari salary yang paling besar\n",
        "\n",
        "Atau singkatnya :\n",
        "\n",
        "a. code untuk menghubungkan Python ke database sandbox (psycopg2)\n",
        "\n",
        "b. code sekaligus query SQL untuk memanggil data :\n",
        "\n",
        "     - employees\n",
        "\n",
        "     - departments\n",
        "\n",
        "     - locations\n",
        "\n",
        "c. code untuk melakukan manipulasi (merge, filter, sort_value) sehingga mendapatkan dataframe yang diinginkan"
      ]
    },
    {
      "cell_type": "markdown",
      "metadata": {
        "id": "sEKbUNg1Yh1N"
      },
      "source": [
        "#Versi 1"
      ]
    },
    {
      "cell_type": "code",
      "metadata": {
        "colab": {
          "base_uri": "https://localhost:8080/"
        },
        "id": "SKkIJgn5PWJa",
        "outputId": "1bcc24ce-f684-483c-e168-48855b5ece81"
      },
      "source": [
        "import psycopg2\n",
        "#create connection\n",
        "connection = psycopg2.connect(host = \"digitalskoladb.c04me33o8tni.ap-southeast-1.rds.amazonaws.com\",\n",
        "                              port = 5432,\n",
        "                              database = \"sandbox\",\n",
        "                              user = \"group_06\",\n",
        "                              password = \"jJwz9KL22x4Prb3LXEJw23HYT\")"
      ],
      "execution_count": null,
      "outputs": [
        {
          "output_type": "stream",
          "text": [
            "/usr/local/lib/python3.7/dist-packages/psycopg2/__init__.py:144: UserWarning: The psycopg2 wheel package will be renamed from release 2.8; in order to keep installing from binary please use \"pip install psycopg2-binary\" instead. For details see: <http://initd.org/psycopg/docs/install.html#binary-install-from-pypi>.\n",
            "  \"\"\")\n"
          ],
          "name": "stderr"
        }
      ]
    },
    {
      "cell_type": "code",
      "metadata": {
        "id": "3IuZd5SePrsN"
      },
      "source": [
        "sql = \"\"\"\n",
        "    with location as\n",
        "    (select dept.department_id, loc.city\n",
        "    from datasource.departments dept\n",
        "    left join datasource.locations loc on dept.location_id = loc.location_id\n",
        "    )\n",
        "    select emp.first_name, emp.last_name, emp.salary, dept.department_name, loc.city\n",
        "    from datasource.employees emp\n",
        "    left join datasource.departments dept on emp.department_id = dept.department_id\n",
        "    left join location loc on emp.department_id = loc.department_id\n",
        "    \"\"\""
      ],
      "execution_count": null,
      "outputs": []
    },
    {
      "cell_type": "code",
      "metadata": {
        "colab": {
          "base_uri": "https://localhost:8080/",
          "height": 415
        },
        "id": "bh-9Z4NQQjgX",
        "outputId": "f00ac56d-8e59-48cc-812b-a0d10f2581fd"
      },
      "source": [
        "import pandas as pd\n",
        "df=pd.read_sql(sql,connection)\n",
        "df.sort_values(['salary'],ascending = False)"
      ],
      "execution_count": 63,
      "outputs": [
        {
          "output_type": "execute_result",
          "data": {
            "text/html": [
              "<div>\n",
              "<style scoped>\n",
              "    .dataframe tbody tr th:only-of-type {\n",
              "        vertical-align: middle;\n",
              "    }\n",
              "\n",
              "    .dataframe tbody tr th {\n",
              "        vertical-align: top;\n",
              "    }\n",
              "\n",
              "    .dataframe thead th {\n",
              "        text-align: right;\n",
              "    }\n",
              "</style>\n",
              "<table border=\"1\" class=\"dataframe\">\n",
              "  <thead>\n",
              "    <tr style=\"text-align: right;\">\n",
              "      <th></th>\n",
              "      <th>first_name</th>\n",
              "      <th>last_name</th>\n",
              "      <th>salary</th>\n",
              "      <th>department_name</th>\n",
              "      <th>city</th>\n",
              "    </tr>\n",
              "  </thead>\n",
              "  <tbody>\n",
              "    <tr>\n",
              "      <th>0</th>\n",
              "      <td>Steven</td>\n",
              "      <td>King</td>\n",
              "      <td>24000.0</td>\n",
              "      <td>Executive</td>\n",
              "      <td>Seattle</td>\n",
              "    </tr>\n",
              "    <tr>\n",
              "      <th>2</th>\n",
              "      <td>Lex</td>\n",
              "      <td>De Haan</td>\n",
              "      <td>17000.0</td>\n",
              "      <td>Executive</td>\n",
              "      <td>Seattle</td>\n",
              "    </tr>\n",
              "    <tr>\n",
              "      <th>1</th>\n",
              "      <td>Neena</td>\n",
              "      <td>Kochhar</td>\n",
              "      <td>17000.0</td>\n",
              "      <td>Executive</td>\n",
              "      <td>Seattle</td>\n",
              "    </tr>\n",
              "    <tr>\n",
              "      <th>45</th>\n",
              "      <td>John</td>\n",
              "      <td>Russell</td>\n",
              "      <td>14000.0</td>\n",
              "      <td>Sales</td>\n",
              "      <td>OX9 9ZB</td>\n",
              "    </tr>\n",
              "    <tr>\n",
              "      <th>46</th>\n",
              "      <td>Karen</td>\n",
              "      <td>Partners</td>\n",
              "      <td>13500.0</td>\n",
              "      <td>Sales</td>\n",
              "      <td>OX9 9ZB</td>\n",
              "    </tr>\n",
              "    <tr>\n",
              "      <th>...</th>\n",
              "      <td>...</td>\n",
              "      <td>...</td>\n",
              "      <td>...</td>\n",
              "      <td>...</td>\n",
              "      <td>...</td>\n",
              "    </tr>\n",
              "    <tr>\n",
              "      <th>27</th>\n",
              "      <td>James</td>\n",
              "      <td>Landry</td>\n",
              "      <td>2400.0</td>\n",
              "      <td>Shipping</td>\n",
              "      <td>South San Francisco</td>\n",
              "    </tr>\n",
              "    <tr>\n",
              "      <th>35</th>\n",
              "      <td>Ki</td>\n",
              "      <td>Gee</td>\n",
              "      <td>2400.0</td>\n",
              "      <td>Shipping</td>\n",
              "      <td>South San Francisco</td>\n",
              "    </tr>\n",
              "    <tr>\n",
              "      <th>28</th>\n",
              "      <td>Steven</td>\n",
              "      <td>Markle</td>\n",
              "      <td>2200.0</td>\n",
              "      <td>Shipping</td>\n",
              "      <td>South San Francisco</td>\n",
              "    </tr>\n",
              "    <tr>\n",
              "      <th>36</th>\n",
              "      <td>Hazel</td>\n",
              "      <td>Philtanker</td>\n",
              "      <td>2200.0</td>\n",
              "      <td>Shipping</td>\n",
              "      <td>South San Francisco</td>\n",
              "    </tr>\n",
              "    <tr>\n",
              "      <th>32</th>\n",
              "      <td>TJ</td>\n",
              "      <td>Olson</td>\n",
              "      <td>2100.0</td>\n",
              "      <td>Shipping</td>\n",
              "      <td>South San Francisco</td>\n",
              "    </tr>\n",
              "  </tbody>\n",
              "</table>\n",
              "<p>107 rows × 5 columns</p>\n",
              "</div>"
            ],
            "text/plain": [
              "   first_name   last_name   salary department_name                 city\n",
              "0      Steven        King  24000.0       Executive              Seattle\n",
              "2         Lex     De Haan  17000.0       Executive              Seattle\n",
              "1       Neena     Kochhar  17000.0       Executive              Seattle\n",
              "45       John     Russell  14000.0           Sales              OX9 9ZB\n",
              "46      Karen    Partners  13500.0           Sales              OX9 9ZB\n",
              "..        ...         ...      ...             ...                  ...\n",
              "27      James      Landry   2400.0        Shipping  South San Francisco\n",
              "35         Ki         Gee   2400.0        Shipping  South San Francisco\n",
              "28     Steven      Markle   2200.0        Shipping  South San Francisco\n",
              "36      Hazel  Philtanker   2200.0        Shipping  South San Francisco\n",
              "32         TJ       Olson   2100.0        Shipping  South San Francisco\n",
              "\n",
              "[107 rows x 5 columns]"
            ]
          },
          "metadata": {
            "tags": []
          },
          "execution_count": 63
        }
      ]
    },
    {
      "cell_type": "markdown",
      "metadata": {
        "id": "b74kJEwOYk9H"
      },
      "source": [
        "#Versi 2"
      ]
    },
    {
      "cell_type": "code",
      "metadata": {
        "id": "LN8r6QafS6TF"
      },
      "source": [
        "emp = \"\"\"\n",
        "    select employee_id,first_name, last_name, salary, department_id from datasource.employees\n",
        "    \"\"\"\n",
        "dept = \"\"\"\n",
        "    select department_id, department_name, location_id from datasource.departments\n",
        "    \"\"\"\n",
        "loc = \"\"\"\n",
        "    select location_id,city from datasource.locations\n",
        "    \"\"\""
      ],
      "execution_count": 58,
      "outputs": []
    },
    {
      "cell_type": "code",
      "metadata": {
        "id": "MUtKn6xzTCEF"
      },
      "source": [
        "import pandas as pd\n",
        "df_emp=pd.read_sql(emp,connection)\n",
        "df_dept=pd.read_sql(dept,connection)\n",
        "df_loc=pd.read_sql(loc,connection)"
      ],
      "execution_count": 59,
      "outputs": []
    },
    {
      "cell_type": "code",
      "metadata": {
        "colab": {
          "base_uri": "https://localhost:8080/",
          "height": 415
        },
        "id": "KX5uNZscZB-K",
        "outputId": "f4e1a9af-7f2e-47cd-835c-59108d8dc7ba"
      },
      "source": [
        "df1= df_dept.merge(df_loc, how= 'left', on ='location_id')\n",
        "df2= df_emp.merge(df1,how = 'left', on = 'department_id')\n",
        "df2[['first_name','last_name','salary','department_name','city']].sort_values(['salary'], ascending = False)"
      ],
      "execution_count": 70,
      "outputs": [
        {
          "output_type": "execute_result",
          "data": {
            "text/html": [
              "<div>\n",
              "<style scoped>\n",
              "    .dataframe tbody tr th:only-of-type {\n",
              "        vertical-align: middle;\n",
              "    }\n",
              "\n",
              "    .dataframe tbody tr th {\n",
              "        vertical-align: top;\n",
              "    }\n",
              "\n",
              "    .dataframe thead th {\n",
              "        text-align: right;\n",
              "    }\n",
              "</style>\n",
              "<table border=\"1\" class=\"dataframe\">\n",
              "  <thead>\n",
              "    <tr style=\"text-align: right;\">\n",
              "      <th></th>\n",
              "      <th>first_name</th>\n",
              "      <th>last_name</th>\n",
              "      <th>salary</th>\n",
              "      <th>department_name</th>\n",
              "      <th>city</th>\n",
              "    </tr>\n",
              "  </thead>\n",
              "  <tbody>\n",
              "    <tr>\n",
              "      <th>0</th>\n",
              "      <td>Steven</td>\n",
              "      <td>King</td>\n",
              "      <td>24000.0</td>\n",
              "      <td>Executive</td>\n",
              "      <td>Seattle</td>\n",
              "    </tr>\n",
              "    <tr>\n",
              "      <th>2</th>\n",
              "      <td>Lex</td>\n",
              "      <td>De Haan</td>\n",
              "      <td>17000.0</td>\n",
              "      <td>Executive</td>\n",
              "      <td>Seattle</td>\n",
              "    </tr>\n",
              "    <tr>\n",
              "      <th>1</th>\n",
              "      <td>Neena</td>\n",
              "      <td>Kochhar</td>\n",
              "      <td>17000.0</td>\n",
              "      <td>Executive</td>\n",
              "      <td>Seattle</td>\n",
              "    </tr>\n",
              "    <tr>\n",
              "      <th>45</th>\n",
              "      <td>John</td>\n",
              "      <td>Russell</td>\n",
              "      <td>14000.0</td>\n",
              "      <td>Sales</td>\n",
              "      <td>OX9 9ZB</td>\n",
              "    </tr>\n",
              "    <tr>\n",
              "      <th>46</th>\n",
              "      <td>Karen</td>\n",
              "      <td>Partners</td>\n",
              "      <td>13500.0</td>\n",
              "      <td>Sales</td>\n",
              "      <td>OX9 9ZB</td>\n",
              "    </tr>\n",
              "    <tr>\n",
              "      <th>...</th>\n",
              "      <td>...</td>\n",
              "      <td>...</td>\n",
              "      <td>...</td>\n",
              "      <td>...</td>\n",
              "      <td>...</td>\n",
              "    </tr>\n",
              "    <tr>\n",
              "      <th>27</th>\n",
              "      <td>James</td>\n",
              "      <td>Landry</td>\n",
              "      <td>2400.0</td>\n",
              "      <td>Shipping</td>\n",
              "      <td>South San Francisco</td>\n",
              "    </tr>\n",
              "    <tr>\n",
              "      <th>35</th>\n",
              "      <td>Ki</td>\n",
              "      <td>Gee</td>\n",
              "      <td>2400.0</td>\n",
              "      <td>Shipping</td>\n",
              "      <td>South San Francisco</td>\n",
              "    </tr>\n",
              "    <tr>\n",
              "      <th>28</th>\n",
              "      <td>Steven</td>\n",
              "      <td>Markle</td>\n",
              "      <td>2200.0</td>\n",
              "      <td>Shipping</td>\n",
              "      <td>South San Francisco</td>\n",
              "    </tr>\n",
              "    <tr>\n",
              "      <th>36</th>\n",
              "      <td>Hazel</td>\n",
              "      <td>Philtanker</td>\n",
              "      <td>2200.0</td>\n",
              "      <td>Shipping</td>\n",
              "      <td>South San Francisco</td>\n",
              "    </tr>\n",
              "    <tr>\n",
              "      <th>32</th>\n",
              "      <td>TJ</td>\n",
              "      <td>Olson</td>\n",
              "      <td>2100.0</td>\n",
              "      <td>Shipping</td>\n",
              "      <td>South San Francisco</td>\n",
              "    </tr>\n",
              "  </tbody>\n",
              "</table>\n",
              "<p>107 rows × 5 columns</p>\n",
              "</div>"
            ],
            "text/plain": [
              "   first_name   last_name   salary department_name                 city\n",
              "0      Steven        King  24000.0       Executive              Seattle\n",
              "2         Lex     De Haan  17000.0       Executive              Seattle\n",
              "1       Neena     Kochhar  17000.0       Executive              Seattle\n",
              "45       John     Russell  14000.0           Sales              OX9 9ZB\n",
              "46      Karen    Partners  13500.0           Sales              OX9 9ZB\n",
              "..        ...         ...      ...             ...                  ...\n",
              "27      James      Landry   2400.0        Shipping  South San Francisco\n",
              "35         Ki         Gee   2400.0        Shipping  South San Francisco\n",
              "28     Steven      Markle   2200.0        Shipping  South San Francisco\n",
              "36      Hazel  Philtanker   2200.0        Shipping  South San Francisco\n",
              "32         TJ       Olson   2100.0        Shipping  South San Francisco\n",
              "\n",
              "[107 rows x 5 columns]"
            ]
          },
          "metadata": {
            "tags": []
          },
          "execution_count": 70
        }
      ]
    }
  ]
}