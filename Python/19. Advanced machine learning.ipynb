{
  "nbformat": 4,
  "nbformat_minor": 0,
  "metadata": {
    "colab": {
      "name": "HW 1.ipynb",
      "provenance": [],
      "collapsed_sections": []
    },
    "kernelspec": {
      "name": "python3",
      "display_name": "Python 3"
    },
    "language_info": {
      "name": "python"
    }
  },
  "cells": [
    {
      "cell_type": "markdown",
      "metadata": {
        "id": "i8o0YBEoJFrk"
      },
      "source": [
        "Dengan menggunakan waterQuality1.csv, lakukanlah hal-hal berikut:\n",
        "- Bagi menjadi data train dan test\n",
        "- Normalisasi atau Standarisasi\n",
        "- Lakukan Feature Selection atau Dimensionality Reduction pada data tersebut\n",
        "- Perlihatkan perbedaan metric model (Akurasi, Precision, Recall, ROC AUC) antara sebelum dan sesudah melakukan Feature Selection atau Dimensionality Reduction\n",
        "- Berikan komentar di setiap tahapan yang dilakukan"
      ]
    },
    {
      "cell_type": "code",
      "metadata": {
        "id": "wblZYDlhJDBv",
        "colab": {
          "base_uri": "https://localhost:8080/"
        },
        "outputId": "d743fee5-4142-42ce-f460-5292fd7b8317"
      },
      "source": [
        "#import library\n",
        "import pandas as pd\n",
        "import matplotlib.pyplot as plt\n",
        "import seaborn as sns\n",
        "\n",
        "from imblearn.over_sampling import SMOTE\n",
        "from sklearn.model_selection import train_test_split\n",
        "from collections import Counter\n",
        "from sklearn.tree import DecisionTreeClassifier\n",
        "from sklearn import tree,decomposition\n",
        "from sklearn.pipeline import Pipeline\n",
        "from sklearn.preprocessing import StandardScaler\n",
        "from sklearn.model_selection import cross_val_predict\n",
        "from sklearn.metrics import confusion_matrix, classification_report,roc_auc_score, precision_score, recall_score\n"
      ],
      "execution_count": 1,
      "outputs": [
        {
          "output_type": "stream",
          "text": [
            "/usr/local/lib/python3.7/dist-packages/sklearn/externals/six.py:31: FutureWarning: The module is deprecated in version 0.21 and will be removed in version 0.23 since we've dropped support for Python 2.7. Please rely on the official version of six (https://pypi.org/project/six/).\n",
            "  \"(https://pypi.org/project/six/).\", FutureWarning)\n",
            "/usr/local/lib/python3.7/dist-packages/sklearn/utils/deprecation.py:144: FutureWarning: The sklearn.neighbors.base module is  deprecated in version 0.22 and will be removed in version 0.24. The corresponding classes / functions should instead be imported from sklearn.neighbors. Anything that cannot be imported from sklearn.neighbors is now part of the private API.\n",
            "  warnings.warn(message, FutureWarning)\n"
          ],
          "name": "stderr"
        }
      ]
    },
    {
      "cell_type": "code",
      "metadata": {
        "colab": {
          "base_uri": "https://localhost:8080/",
          "height": 224
        },
        "id": "GB3TT-EeJTq_",
        "outputId": "b5cbfd37-5bd2-4504-a521-7dac4cfe7236"
      },
      "source": [
        "#import data\n",
        "df = pd.read_csv(\"waterQuality1.csv\")\n",
        "df.head()"
      ],
      "execution_count": 2,
      "outputs": [
        {
          "output_type": "execute_result",
          "data": {
            "text/html": [
              "<div>\n",
              "<style scoped>\n",
              "    .dataframe tbody tr th:only-of-type {\n",
              "        vertical-align: middle;\n",
              "    }\n",
              "\n",
              "    .dataframe tbody tr th {\n",
              "        vertical-align: top;\n",
              "    }\n",
              "\n",
              "    .dataframe thead th {\n",
              "        text-align: right;\n",
              "    }\n",
              "</style>\n",
              "<table border=\"1\" class=\"dataframe\">\n",
              "  <thead>\n",
              "    <tr style=\"text-align: right;\">\n",
              "      <th></th>\n",
              "      <th>aluminium</th>\n",
              "      <th>ammonia</th>\n",
              "      <th>arsenic</th>\n",
              "      <th>barium</th>\n",
              "      <th>cadmium</th>\n",
              "      <th>chloramine</th>\n",
              "      <th>chromium</th>\n",
              "      <th>copper</th>\n",
              "      <th>flouride</th>\n",
              "      <th>bacteria</th>\n",
              "      <th>viruses</th>\n",
              "      <th>lead</th>\n",
              "      <th>nitrates</th>\n",
              "      <th>nitrites</th>\n",
              "      <th>mercury</th>\n",
              "      <th>perchlorate</th>\n",
              "      <th>radium</th>\n",
              "      <th>selenium</th>\n",
              "      <th>silver</th>\n",
              "      <th>uranium</th>\n",
              "      <th>is_safe</th>\n",
              "    </tr>\n",
              "  </thead>\n",
              "  <tbody>\n",
              "    <tr>\n",
              "      <th>0</th>\n",
              "      <td>1.65</td>\n",
              "      <td>9.08</td>\n",
              "      <td>0.04</td>\n",
              "      <td>2.85</td>\n",
              "      <td>0.007</td>\n",
              "      <td>0.35</td>\n",
              "      <td>0.83</td>\n",
              "      <td>0.17</td>\n",
              "      <td>0.05</td>\n",
              "      <td>0.20</td>\n",
              "      <td>0.000</td>\n",
              "      <td>0.054</td>\n",
              "      <td>16.08</td>\n",
              "      <td>1.13</td>\n",
              "      <td>0.007</td>\n",
              "      <td>37.75</td>\n",
              "      <td>6.78</td>\n",
              "      <td>0.08</td>\n",
              "      <td>0.34</td>\n",
              "      <td>0.02</td>\n",
              "      <td>1</td>\n",
              "    </tr>\n",
              "    <tr>\n",
              "      <th>1</th>\n",
              "      <td>2.32</td>\n",
              "      <td>21.16</td>\n",
              "      <td>0.01</td>\n",
              "      <td>3.31</td>\n",
              "      <td>0.002</td>\n",
              "      <td>5.28</td>\n",
              "      <td>0.68</td>\n",
              "      <td>0.66</td>\n",
              "      <td>0.90</td>\n",
              "      <td>0.65</td>\n",
              "      <td>0.650</td>\n",
              "      <td>0.100</td>\n",
              "      <td>2.01</td>\n",
              "      <td>1.93</td>\n",
              "      <td>0.003</td>\n",
              "      <td>32.26</td>\n",
              "      <td>3.21</td>\n",
              "      <td>0.08</td>\n",
              "      <td>0.27</td>\n",
              "      <td>0.05</td>\n",
              "      <td>1</td>\n",
              "    </tr>\n",
              "    <tr>\n",
              "      <th>2</th>\n",
              "      <td>1.01</td>\n",
              "      <td>14.02</td>\n",
              "      <td>0.04</td>\n",
              "      <td>0.58</td>\n",
              "      <td>0.008</td>\n",
              "      <td>4.24</td>\n",
              "      <td>0.53</td>\n",
              "      <td>0.02</td>\n",
              "      <td>0.99</td>\n",
              "      <td>0.05</td>\n",
              "      <td>0.003</td>\n",
              "      <td>0.078</td>\n",
              "      <td>14.16</td>\n",
              "      <td>1.11</td>\n",
              "      <td>0.006</td>\n",
              "      <td>50.28</td>\n",
              "      <td>7.07</td>\n",
              "      <td>0.07</td>\n",
              "      <td>0.44</td>\n",
              "      <td>0.01</td>\n",
              "      <td>0</td>\n",
              "    </tr>\n",
              "    <tr>\n",
              "      <th>3</th>\n",
              "      <td>1.36</td>\n",
              "      <td>11.33</td>\n",
              "      <td>0.04</td>\n",
              "      <td>2.96</td>\n",
              "      <td>0.001</td>\n",
              "      <td>7.23</td>\n",
              "      <td>0.03</td>\n",
              "      <td>1.66</td>\n",
              "      <td>1.08</td>\n",
              "      <td>0.71</td>\n",
              "      <td>0.710</td>\n",
              "      <td>0.016</td>\n",
              "      <td>1.41</td>\n",
              "      <td>1.29</td>\n",
              "      <td>0.004</td>\n",
              "      <td>9.12</td>\n",
              "      <td>1.72</td>\n",
              "      <td>0.02</td>\n",
              "      <td>0.45</td>\n",
              "      <td>0.05</td>\n",
              "      <td>1</td>\n",
              "    </tr>\n",
              "    <tr>\n",
              "      <th>4</th>\n",
              "      <td>0.92</td>\n",
              "      <td>24.33</td>\n",
              "      <td>0.03</td>\n",
              "      <td>0.20</td>\n",
              "      <td>0.006</td>\n",
              "      <td>2.67</td>\n",
              "      <td>0.69</td>\n",
              "      <td>0.57</td>\n",
              "      <td>0.61</td>\n",
              "      <td>0.13</td>\n",
              "      <td>0.001</td>\n",
              "      <td>0.117</td>\n",
              "      <td>6.74</td>\n",
              "      <td>1.11</td>\n",
              "      <td>0.003</td>\n",
              "      <td>16.90</td>\n",
              "      <td>2.41</td>\n",
              "      <td>0.02</td>\n",
              "      <td>0.06</td>\n",
              "      <td>0.02</td>\n",
              "      <td>1</td>\n",
              "    </tr>\n",
              "  </tbody>\n",
              "</table>\n",
              "</div>"
            ],
            "text/plain": [
              "   aluminium ammonia  arsenic  barium  ...  selenium  silver  uranium  is_safe\n",
              "0       1.65    9.08     0.04    2.85  ...      0.08    0.34     0.02        1\n",
              "1       2.32   21.16     0.01    3.31  ...      0.08    0.27     0.05        1\n",
              "2       1.01   14.02     0.04    0.58  ...      0.07    0.44     0.01        0\n",
              "3       1.36   11.33     0.04    2.96  ...      0.02    0.45     0.05        1\n",
              "4       0.92   24.33     0.03    0.20  ...      0.02    0.06     0.02        1\n",
              "\n",
              "[5 rows x 21 columns]"
            ]
          },
          "metadata": {
            "tags": []
          },
          "execution_count": 2
        }
      ]
    },
    {
      "cell_type": "code",
      "metadata": {
        "colab": {
          "base_uri": "https://localhost:8080/"
        },
        "id": "GCovsLApKDzs",
        "outputId": "c9d4e292-e2a4-4702-b45e-9ff125d7cd08"
      },
      "source": [
        "#check missing value\n",
        "df.isnull().sum()"
      ],
      "execution_count": 3,
      "outputs": [
        {
          "output_type": "execute_result",
          "data": {
            "text/plain": [
              "aluminium      0\n",
              "ammonia        0\n",
              "arsenic        0\n",
              "barium         0\n",
              "cadmium        0\n",
              "chloramine     0\n",
              "chromium       0\n",
              "copper         0\n",
              "flouride       0\n",
              "bacteria       0\n",
              "viruses        0\n",
              "lead           0\n",
              "nitrates       0\n",
              "nitrites       0\n",
              "mercury        0\n",
              "perchlorate    0\n",
              "radium         0\n",
              "selenium       0\n",
              "silver         0\n",
              "uranium        0\n",
              "is_safe        0\n",
              "dtype: int64"
            ]
          },
          "metadata": {
            "tags": []
          },
          "execution_count": 3
        }
      ]
    },
    {
      "cell_type": "code",
      "metadata": {
        "colab": {
          "base_uri": "https://localhost:8080/"
        },
        "id": "dQXrtPfKfz_f",
        "outputId": "8bde0154-d166-493e-b602-dad2e914f071"
      },
      "source": [
        "#check data type\n",
        "df.info()"
      ],
      "execution_count": 4,
      "outputs": [
        {
          "output_type": "stream",
          "text": [
            "<class 'pandas.core.frame.DataFrame'>\n",
            "RangeIndex: 7999 entries, 0 to 7998\n",
            "Data columns (total 21 columns):\n",
            " #   Column       Non-Null Count  Dtype  \n",
            "---  ------       --------------  -----  \n",
            " 0   aluminium    7999 non-null   float64\n",
            " 1   ammonia      7999 non-null   object \n",
            " 2   arsenic      7999 non-null   float64\n",
            " 3   barium       7999 non-null   float64\n",
            " 4   cadmium      7999 non-null   float64\n",
            " 5   chloramine   7999 non-null   float64\n",
            " 6   chromium     7999 non-null   float64\n",
            " 7   copper       7999 non-null   float64\n",
            " 8   flouride     7999 non-null   float64\n",
            " 9   bacteria     7999 non-null   float64\n",
            " 10  viruses      7999 non-null   float64\n",
            " 11  lead         7999 non-null   float64\n",
            " 12  nitrates     7999 non-null   float64\n",
            " 13  nitrites     7999 non-null   float64\n",
            " 14  mercury      7999 non-null   float64\n",
            " 15  perchlorate  7999 non-null   float64\n",
            " 16  radium       7999 non-null   float64\n",
            " 17  selenium     7999 non-null   float64\n",
            " 18  silver       7999 non-null   float64\n",
            " 19  uranium      7999 non-null   float64\n",
            " 20  is_safe      7999 non-null   object \n",
            "dtypes: float64(19), object(2)\n",
            "memory usage: 1.3+ MB\n"
          ],
          "name": "stdout"
        }
      ]
    },
    {
      "cell_type": "markdown",
      "metadata": {
        "id": "D-Ffnom6Jpta"
      },
      "source": [
        "#Data Preprocess"
      ]
    },
    {
      "cell_type": "code",
      "metadata": {
        "colab": {
          "base_uri": "https://localhost:8080/"
        },
        "id": "s5_Z9A4-J5wd",
        "outputId": "8465463c-5dae-40ff-fd53-f34a776a5467"
      },
      "source": [
        "#checking y target\n",
        "Counter(df['is_safe'])"
      ],
      "execution_count": 5,
      "outputs": [
        {
          "output_type": "execute_result",
          "data": {
            "text/plain": [
              "Counter({'#NUM!': 3, '0': 7084, '1': 912})"
            ]
          },
          "metadata": {
            "tags": []
          },
          "execution_count": 5
        }
      ]
    },
    {
      "cell_type": "code",
      "metadata": {
        "id": "ty25PgfJKRpb"
      },
      "source": [
        "#drop other from gender\n",
        "other = df[df['is_safe'] == '#NUM!'].index\n",
        "df.drop(other, axis=0, inplace= True)"
      ],
      "execution_count": 6,
      "outputs": []
    },
    {
      "cell_type": "code",
      "metadata": {
        "id": "gCvc5eXdgtjF"
      },
      "source": [
        "#changing text to integer\n",
        "is_safe = {'1': 1,'0': 0}\n",
        "df.is_safe = [is_safe[item] for item in df.is_safe]"
      ],
      "execution_count": 7,
      "outputs": []
    },
    {
      "cell_type": "code",
      "metadata": {
        "id": "ewG_cKjOJxne"
      },
      "source": [
        "#separate future data and target data\n",
        "X=df.drop(['is_safe'],1)\n",
        "y=df['is_safe']"
      ],
      "execution_count": 8,
      "outputs": []
    },
    {
      "cell_type": "code",
      "metadata": {
        "colab": {
          "base_uri": "https://localhost:8080/",
          "height": 439
        },
        "id": "OjyI1uMwKkJa",
        "outputId": "2fb5fdd0-7764-45e9-ac8d-4fc0b55dca91"
      },
      "source": [
        "#standarization data\n",
        "scaler = StandardScaler()\n",
        "scaled_data = scaler.fit_transform(X) \n",
        "scaled_data= pd.DataFrame(scaled_data,columns = X.columns)\n",
        "scaled_data"
      ],
      "execution_count": 9,
      "outputs": [
        {
          "output_type": "execute_result",
          "data": {
            "text/html": [
              "<div>\n",
              "<style scoped>\n",
              "    .dataframe tbody tr th:only-of-type {\n",
              "        vertical-align: middle;\n",
              "    }\n",
              "\n",
              "    .dataframe tbody tr th {\n",
              "        vertical-align: top;\n",
              "    }\n",
              "\n",
              "    .dataframe thead th {\n",
              "        text-align: right;\n",
              "    }\n",
              "</style>\n",
              "<table border=\"1\" class=\"dataframe\">\n",
              "  <thead>\n",
              "    <tr style=\"text-align: right;\">\n",
              "      <th></th>\n",
              "      <th>aluminium</th>\n",
              "      <th>ammonia</th>\n",
              "      <th>arsenic</th>\n",
              "      <th>barium</th>\n",
              "      <th>cadmium</th>\n",
              "      <th>chloramine</th>\n",
              "      <th>chromium</th>\n",
              "      <th>copper</th>\n",
              "      <th>flouride</th>\n",
              "      <th>bacteria</th>\n",
              "      <th>viruses</th>\n",
              "      <th>lead</th>\n",
              "      <th>nitrates</th>\n",
              "      <th>nitrites</th>\n",
              "      <th>mercury</th>\n",
              "      <th>perchlorate</th>\n",
              "      <th>radium</th>\n",
              "      <th>selenium</th>\n",
              "      <th>silver</th>\n",
              "      <th>uranium</th>\n",
              "    </tr>\n",
              "  </thead>\n",
              "  <tbody>\n",
              "    <tr>\n",
              "      <th>0</th>\n",
              "      <td>0.777403</td>\n",
              "      <td>-0.585491</td>\n",
              "      <td>-0.480875</td>\n",
              "      <td>1.054205</td>\n",
              "      <td>-0.993241</td>\n",
              "      <td>-0.711941</td>\n",
              "      <td>2.152993</td>\n",
              "      <td>-0.973050</td>\n",
              "      <td>-1.657446</td>\n",
              "      <td>-0.363345</td>\n",
              "      <td>-0.869387</td>\n",
              "      <td>-0.781070</td>\n",
              "      <td>1.129767</td>\n",
              "      <td>-0.348629</td>\n",
              "      <td>0.609178</td>\n",
              "      <td>1.203362</td>\n",
              "      <td>1.661842</td>\n",
              "      <td>1.053694</td>\n",
              "      <td>1.338736</td>\n",
              "      <td>-0.917040</td>\n",
              "    </tr>\n",
              "    <tr>\n",
              "      <th>1</th>\n",
              "      <td>1.306945</td>\n",
              "      <td>0.775118</td>\n",
              "      <td>-0.599632</td>\n",
              "      <td>1.432447</td>\n",
              "      <td>-1.131948</td>\n",
              "      <td>1.208552</td>\n",
              "      <td>1.598765</td>\n",
              "      <td>-0.223303</td>\n",
              "      <td>0.294799</td>\n",
              "      <td>1.002460</td>\n",
              "      <td>0.849782</td>\n",
              "      <td>0.009785</td>\n",
              "      <td>-1.409197</td>\n",
              "      <td>1.046960</td>\n",
              "      <td>-0.739005</td>\n",
              "      <td>0.892977</td>\n",
              "      <td>0.124811</td>\n",
              "      <td>1.053694</td>\n",
              "      <td>0.851134</td>\n",
              "      <td>0.198023</td>\n",
              "    </tr>\n",
              "    <tr>\n",
              "      <th>2</th>\n",
              "      <td>0.271572</td>\n",
              "      <td>-0.029083</td>\n",
              "      <td>-0.480875</td>\n",
              "      <td>-0.812340</td>\n",
              "      <td>-0.965499</td>\n",
              "      <td>0.803417</td>\n",
              "      <td>1.044536</td>\n",
              "      <td>-1.202564</td>\n",
              "      <td>0.501507</td>\n",
              "      <td>-0.818614</td>\n",
              "      <td>-0.861452</td>\n",
              "      <td>-0.368450</td>\n",
              "      <td>0.783298</td>\n",
              "      <td>-0.383518</td>\n",
              "      <td>0.272132</td>\n",
              "      <td>1.911763</td>\n",
              "      <td>1.786699</td>\n",
              "      <td>0.706129</td>\n",
              "      <td>2.035310</td>\n",
              "      <td>-1.288728</td>\n",
              "    </tr>\n",
              "    <tr>\n",
              "      <th>3</th>\n",
              "      <td>0.548198</td>\n",
              "      <td>-0.332067</td>\n",
              "      <td>-0.480875</td>\n",
              "      <td>1.144654</td>\n",
              "      <td>-1.159690</td>\n",
              "      <td>1.968179</td>\n",
              "      <td>-0.802892</td>\n",
              "      <td>1.306793</td>\n",
              "      <td>0.708215</td>\n",
              "      <td>1.184567</td>\n",
              "      <td>1.008475</td>\n",
              "      <td>-1.434385</td>\n",
              "      <td>-1.517469</td>\n",
              "      <td>-0.069511</td>\n",
              "      <td>-0.401960</td>\n",
              "      <td>-0.415275</td>\n",
              "      <td>-0.516695</td>\n",
              "      <td>-1.031700</td>\n",
              "      <td>2.104968</td>\n",
              "      <td>0.198023</td>\n",
              "    </tr>\n",
              "    <tr>\n",
              "      <th>4</th>\n",
              "      <td>0.200439</td>\n",
              "      <td>1.132165</td>\n",
              "      <td>-0.520460</td>\n",
              "      <td>-1.124801</td>\n",
              "      <td>-1.020982</td>\n",
              "      <td>0.191820</td>\n",
              "      <td>1.635713</td>\n",
              "      <td>-0.361012</td>\n",
              "      <td>-0.371261</td>\n",
              "      <td>-0.575804</td>\n",
              "      <td>-0.866742</td>\n",
              "      <td>0.302058</td>\n",
              "      <td>-0.555658</td>\n",
              "      <td>-0.383518</td>\n",
              "      <td>-0.739005</td>\n",
              "      <td>0.024578</td>\n",
              "      <td>-0.219622</td>\n",
              "      <td>-1.031700</td>\n",
              "      <td>-0.611672</td>\n",
              "      <td>-0.917040</td>\n",
              "    </tr>\n",
              "    <tr>\n",
              "      <th>...</th>\n",
              "      <td>...</td>\n",
              "      <td>...</td>\n",
              "      <td>...</td>\n",
              "      <td>...</td>\n",
              "      <td>...</td>\n",
              "      <td>...</td>\n",
              "      <td>...</td>\n",
              "      <td>...</td>\n",
              "      <td>...</td>\n",
              "      <td>...</td>\n",
              "      <td>...</td>\n",
              "      <td>...</td>\n",
              "      <td>...</td>\n",
              "      <td>...</td>\n",
              "      <td>...</td>\n",
              "      <td>...</td>\n",
              "      <td>...</td>\n",
              "      <td>...</td>\n",
              "      <td>...</td>\n",
              "      <td>...</td>\n",
              "    </tr>\n",
              "    <tr>\n",
              "      <th>7991</th>\n",
              "      <td>-0.487175</td>\n",
              "      <td>-0.731915</td>\n",
              "      <td>-0.639217</td>\n",
              "      <td>0.314165</td>\n",
              "      <td>-0.077771</td>\n",
              "      <td>-0.809330</td>\n",
              "      <td>-0.802892</td>\n",
              "      <td>-1.187263</td>\n",
              "      <td>1.374275</td>\n",
              "      <td>-0.970370</td>\n",
              "      <td>-0.869387</td>\n",
              "      <td>1.677459</td>\n",
              "      <td>0.806757</td>\n",
              "      <td>-0.575412</td>\n",
              "      <td>-0.064914</td>\n",
              "      <td>-0.729052</td>\n",
              "      <td>-0.340173</td>\n",
              "      <td>1.401260</td>\n",
              "      <td>-0.611672</td>\n",
              "      <td>-0.545353</td>\n",
              "    </tr>\n",
              "    <tr>\n",
              "      <th>7992</th>\n",
              "      <td>-0.487175</td>\n",
              "      <td>1.119776</td>\n",
              "      <td>-0.560046</td>\n",
              "      <td>-0.804117</td>\n",
              "      <td>-0.910016</td>\n",
              "      <td>-0.672986</td>\n",
              "      <td>-0.839840</td>\n",
              "      <td>-1.202564</td>\n",
              "      <td>1.626919</td>\n",
              "      <td>-0.970370</td>\n",
              "      <td>-0.869387</td>\n",
              "      <td>-1.176498</td>\n",
              "      <td>0.081339</td>\n",
              "      <td>-0.575412</td>\n",
              "      <td>-1.413097</td>\n",
              "      <td>-0.847213</td>\n",
              "      <td>-0.779325</td>\n",
              "      <td>1.401260</td>\n",
              "      <td>-0.333042</td>\n",
              "      <td>1.313085</td>\n",
              "    </tr>\n",
              "    <tr>\n",
              "      <th>7993</th>\n",
              "      <td>-0.455561</td>\n",
              "      <td>-0.836663</td>\n",
              "      <td>-0.639217</td>\n",
              "      <td>-0.787672</td>\n",
              "      <td>-0.355186</td>\n",
              "      <td>-0.828807</td>\n",
              "      <td>-0.728995</td>\n",
              "      <td>-1.202564</td>\n",
              "      <td>0.317766</td>\n",
              "      <td>-0.970370</td>\n",
              "      <td>-0.869387</td>\n",
              "      <td>1.419571</td>\n",
              "      <td>1.100895</td>\n",
              "      <td>-0.575412</td>\n",
              "      <td>-1.750143</td>\n",
              "      <td>-0.854563</td>\n",
              "      <td>0.826593</td>\n",
              "      <td>-1.726831</td>\n",
              "      <td>-0.750986</td>\n",
              "      <td>0.198023</td>\n",
              "    </tr>\n",
              "    <tr>\n",
              "      <th>7994</th>\n",
              "      <td>-0.518790</td>\n",
              "      <td>-0.481869</td>\n",
              "      <td>-0.599632</td>\n",
              "      <td>0.355278</td>\n",
              "      <td>-1.187431</td>\n",
              "      <td>-0.069180</td>\n",
              "      <td>-0.913738</td>\n",
              "      <td>-1.095458</td>\n",
              "      <td>-1.772284</td>\n",
              "      <td>-0.970370</td>\n",
              "      <td>-0.869387</td>\n",
              "      <td>-1.709466</td>\n",
              "      <td>-1.771906</td>\n",
              "      <td>-2.319897</td>\n",
              "      <td>-1.750143</td>\n",
              "      <td>-0.930887</td>\n",
              "      <td>-1.257225</td>\n",
              "      <td>-1.726831</td>\n",
              "      <td>-1.029616</td>\n",
              "      <td>-1.660415</td>\n",
              "    </tr>\n",
              "    <tr>\n",
              "      <th>7995</th>\n",
              "      <td>-0.495079</td>\n",
              "      <td>-0.836663</td>\n",
              "      <td>-0.599632</td>\n",
              "      <td>-0.713668</td>\n",
              "      <td>-0.355186</td>\n",
              "      <td>-0.828807</td>\n",
              "      <td>-0.876789</td>\n",
              "      <td>-1.187263</td>\n",
              "      <td>0.524474</td>\n",
              "      <td>-0.970370</td>\n",
              "      <td>-0.869387</td>\n",
              "      <td>1.419571</td>\n",
              "      <td>1.100895</td>\n",
              "      <td>-0.575412</td>\n",
              "      <td>-1.750143</td>\n",
              "      <td>-0.854563</td>\n",
              "      <td>0.826593</td>\n",
              "      <td>-1.726831</td>\n",
              "      <td>-0.750986</td>\n",
              "      <td>0.198023</td>\n",
              "    </tr>\n",
              "  </tbody>\n",
              "</table>\n",
              "<p>7996 rows × 20 columns</p>\n",
              "</div>"
            ],
            "text/plain": [
              "      aluminium   ammonia   arsenic  ...  selenium    silver   uranium\n",
              "0      0.777403 -0.585491 -0.480875  ...  1.053694  1.338736 -0.917040\n",
              "1      1.306945  0.775118 -0.599632  ...  1.053694  0.851134  0.198023\n",
              "2      0.271572 -0.029083 -0.480875  ...  0.706129  2.035310 -1.288728\n",
              "3      0.548198 -0.332067 -0.480875  ... -1.031700  2.104968  0.198023\n",
              "4      0.200439  1.132165 -0.520460  ... -1.031700 -0.611672 -0.917040\n",
              "...         ...       ...       ...  ...       ...       ...       ...\n",
              "7991  -0.487175 -0.731915 -0.639217  ...  1.401260 -0.611672 -0.545353\n",
              "7992  -0.487175  1.119776 -0.560046  ...  1.401260 -0.333042  1.313085\n",
              "7993  -0.455561 -0.836663 -0.639217  ... -1.726831 -0.750986  0.198023\n",
              "7994  -0.518790 -0.481869 -0.599632  ... -1.726831 -1.029616 -1.660415\n",
              "7995  -0.495079 -0.836663 -0.599632  ... -1.726831 -0.750986  0.198023\n",
              "\n",
              "[7996 rows x 20 columns]"
            ]
          },
          "metadata": {
            "tags": []
          },
          "execution_count": 9
        }
      ]
    },
    {
      "cell_type": "code",
      "metadata": {
        "id": "FG7DbVqJepJY"
      },
      "source": [
        "#assign scaled data to x\n",
        "X= scaled_data"
      ],
      "execution_count": 10,
      "outputs": []
    },
    {
      "cell_type": "code",
      "metadata": {
        "id": "96LXSPbHJrpF"
      },
      "source": [
        "#splitting data\n",
        "X_train, X_test, y_train, y_test= train_test_split(X,y, test_size=0.25, stratify=y, random_state=0)"
      ],
      "execution_count": 11,
      "outputs": []
    },
    {
      "cell_type": "code",
      "metadata": {
        "colab": {
          "base_uri": "https://localhost:8080/"
        },
        "id": "P6zDqUQuKhQL",
        "outputId": "d90321b9-7d14-4315-8176-bd0d493e8a0f"
      },
      "source": [
        "#handling imbalance dataset\n",
        "\n",
        "smote = SMOTE()\n",
        "X_smote, y_smote = smote.fit_resample(X_train,y_train)"
      ],
      "execution_count": 12,
      "outputs": [
        {
          "output_type": "stream",
          "text": [
            "/usr/local/lib/python3.7/dist-packages/sklearn/utils/deprecation.py:87: FutureWarning: Function safe_indexing is deprecated; safe_indexing is deprecated in version 0.22 and will be removed in version 0.24.\n",
            "  warnings.warn(msg, category=FutureWarning)\n"
          ],
          "name": "stderr"
        }
      ]
    },
    {
      "cell_type": "code",
      "metadata": {
        "id": "aCrfp-OhmSXe"
      },
      "source": [
        "#adding header to X_smote\n",
        "X_smote = pd.DataFrame(data =X_smote, columns= X.columns)"
      ],
      "execution_count": 13,
      "outputs": []
    },
    {
      "cell_type": "code",
      "metadata": {
        "colab": {
          "base_uri": "https://localhost:8080/",
          "height": 439
        },
        "id": "wbxmNmSimv-N",
        "outputId": "fc12d5ab-0680-4d4d-b66a-e82e55ffb291"
      },
      "source": [
        "X_smote"
      ],
      "execution_count": 14,
      "outputs": [
        {
          "output_type": "execute_result",
          "data": {
            "text/html": [
              "<div>\n",
              "<style scoped>\n",
              "    .dataframe tbody tr th:only-of-type {\n",
              "        vertical-align: middle;\n",
              "    }\n",
              "\n",
              "    .dataframe tbody tr th {\n",
              "        vertical-align: top;\n",
              "    }\n",
              "\n",
              "    .dataframe thead th {\n",
              "        text-align: right;\n",
              "    }\n",
              "</style>\n",
              "<table border=\"1\" class=\"dataframe\">\n",
              "  <thead>\n",
              "    <tr style=\"text-align: right;\">\n",
              "      <th></th>\n",
              "      <th>aluminium</th>\n",
              "      <th>ammonia</th>\n",
              "      <th>arsenic</th>\n",
              "      <th>barium</th>\n",
              "      <th>cadmium</th>\n",
              "      <th>chloramine</th>\n",
              "      <th>chromium</th>\n",
              "      <th>copper</th>\n",
              "      <th>flouride</th>\n",
              "      <th>bacteria</th>\n",
              "      <th>viruses</th>\n",
              "      <th>lead</th>\n",
              "      <th>nitrates</th>\n",
              "      <th>nitrites</th>\n",
              "      <th>mercury</th>\n",
              "      <th>perchlorate</th>\n",
              "      <th>radium</th>\n",
              "      <th>selenium</th>\n",
              "      <th>silver</th>\n",
              "      <th>uranium</th>\n",
              "    </tr>\n",
              "  </thead>\n",
              "  <tbody>\n",
              "    <tr>\n",
              "      <th>0</th>\n",
              "      <td>-0.487175</td>\n",
              "      <td>-1.541747</td>\n",
              "      <td>-0.401703</td>\n",
              "      <td>-0.680777</td>\n",
              "      <td>-1.187431</td>\n",
              "      <td>-0.809330</td>\n",
              "      <td>-0.692046</td>\n",
              "      <td>1.092580</td>\n",
              "      <td>-0.026748</td>\n",
              "      <td>0.759650</td>\n",
              "      <td>0.638192</td>\n",
              "      <td>0.955373</td>\n",
              "      <td>-0.247084</td>\n",
              "      <td>1.099294</td>\n",
              "      <td>-1.076051</td>\n",
              "      <td>-0.909403</td>\n",
              "      <td>-0.236843</td>\n",
              "      <td>1.748826</td>\n",
              "      <td>-0.681329</td>\n",
              "      <td>1.313085</td>\n",
              "    </tr>\n",
              "    <tr>\n",
              "      <th>1</th>\n",
              "      <td>-0.518790</td>\n",
              "      <td>0.534083</td>\n",
              "      <td>-0.480875</td>\n",
              "      <td>0.149712</td>\n",
              "      <td>-1.104207</td>\n",
              "      <td>1.582522</td>\n",
              "      <td>1.192330</td>\n",
              "      <td>1.674016</td>\n",
              "      <td>-0.761710</td>\n",
              "      <td>1.579133</td>\n",
              "      <td>1.352308</td>\n",
              "      <td>-1.228075</td>\n",
              "      <td>0.292468</td>\n",
              "      <td>0.872511</td>\n",
              "      <td>-0.739005</td>\n",
              "      <td>0.859621</td>\n",
              "      <td>1.890029</td>\n",
              "      <td>-1.031700</td>\n",
              "      <td>2.035310</td>\n",
              "      <td>0.198023</td>\n",
              "    </tr>\n",
              "    <tr>\n",
              "      <th>2</th>\n",
              "      <td>-0.510886</td>\n",
              "      <td>-1.059677</td>\n",
              "      <td>-0.401703</td>\n",
              "      <td>-0.524546</td>\n",
              "      <td>0.477060</td>\n",
              "      <td>-0.657404</td>\n",
              "      <td>-0.765943</td>\n",
              "      <td>-1.095458</td>\n",
              "      <td>0.111058</td>\n",
              "      <td>-0.940019</td>\n",
              "      <td>-0.850872</td>\n",
              "      <td>0.783448</td>\n",
              "      <td>-0.506936</td>\n",
              "      <td>-0.697526</td>\n",
              "      <td>-0.739005</td>\n",
              "      <td>-0.920710</td>\n",
              "      <td>-0.193789</td>\n",
              "      <td>-1.031700</td>\n",
              "      <td>-0.402699</td>\n",
              "      <td>0.941398</td>\n",
              "    </tr>\n",
              "    <tr>\n",
              "      <th>3</th>\n",
              "      <td>-0.455561</td>\n",
              "      <td>-1.441504</td>\n",
              "      <td>-0.560046</td>\n",
              "      <td>-1.067242</td>\n",
              "      <td>1.031890</td>\n",
              "      <td>-0.821016</td>\n",
              "      <td>-0.692046</td>\n",
              "      <td>0.893667</td>\n",
              "      <td>0.960859</td>\n",
              "      <td>-0.970370</td>\n",
              "      <td>-0.866742</td>\n",
              "      <td>1.625881</td>\n",
              "      <td>-1.503032</td>\n",
              "      <td>-2.232673</td>\n",
              "      <td>1.283269</td>\n",
              "      <td>-0.914491</td>\n",
              "      <td>0.736179</td>\n",
              "      <td>1.053694</td>\n",
              "      <td>-1.029616</td>\n",
              "      <td>-0.917040</td>\n",
              "    </tr>\n",
              "    <tr>\n",
              "      <th>4</th>\n",
              "      <td>1.638897</td>\n",
              "      <td>-0.967318</td>\n",
              "      <td>3.002664</td>\n",
              "      <td>-0.236753</td>\n",
              "      <td>0.477060</td>\n",
              "      <td>-0.014643</td>\n",
              "      <td>1.820456</td>\n",
              "      <td>1.429201</td>\n",
              "      <td>0.455572</td>\n",
              "      <td>-0.970370</td>\n",
              "      <td>-0.858807</td>\n",
              "      <td>1.711844</td>\n",
              "      <td>0.729163</td>\n",
              "      <td>0.732952</td>\n",
              "      <td>0.272132</td>\n",
              "      <td>-0.608629</td>\n",
              "      <td>0.977282</td>\n",
              "      <td>0.706129</td>\n",
              "      <td>2.035310</td>\n",
              "      <td>1.313085</td>\n",
              "    </tr>\n",
              "    <tr>\n",
              "      <th>...</th>\n",
              "      <td>...</td>\n",
              "      <td>...</td>\n",
              "      <td>...</td>\n",
              "      <td>...</td>\n",
              "      <td>...</td>\n",
              "      <td>...</td>\n",
              "      <td>...</td>\n",
              "      <td>...</td>\n",
              "      <td>...</td>\n",
              "      <td>...</td>\n",
              "      <td>...</td>\n",
              "      <td>...</td>\n",
              "      <td>...</td>\n",
              "      <td>...</td>\n",
              "      <td>...</td>\n",
              "      <td>...</td>\n",
              "      <td>...</td>\n",
              "      <td>...</td>\n",
              "      <td>...</td>\n",
              "      <td>...</td>\n",
              "    </tr>\n",
              "    <tr>\n",
              "      <th>10621</th>\n",
              "      <td>2.408162</td>\n",
              "      <td>-0.378180</td>\n",
              "      <td>-0.524209</td>\n",
              "      <td>1.871972</td>\n",
              "      <td>-0.997770</td>\n",
              "      <td>0.531542</td>\n",
              "      <td>1.477812</td>\n",
              "      <td>0.027009</td>\n",
              "      <td>-0.435382</td>\n",
              "      <td>-0.970370</td>\n",
              "      <td>-0.869387</td>\n",
              "      <td>-1.320775</td>\n",
              "      <td>-1.252735</td>\n",
              "      <td>0.396588</td>\n",
              "      <td>0.576159</td>\n",
              "      <td>-0.633613</td>\n",
              "      <td>0.176407</td>\n",
              "      <td>-0.718183</td>\n",
              "      <td>-0.126344</td>\n",
              "      <td>0.581848</td>\n",
              "    </tr>\n",
              "    <tr>\n",
              "      <th>10622</th>\n",
              "      <td>3.229912</td>\n",
              "      <td>-1.017412</td>\n",
              "      <td>-0.551647</td>\n",
              "      <td>-1.040079</td>\n",
              "      <td>-1.159690</td>\n",
              "      <td>0.976836</td>\n",
              "      <td>1.312139</td>\n",
              "      <td>0.021053</td>\n",
              "      <td>0.794505</td>\n",
              "      <td>1.532221</td>\n",
              "      <td>1.311428</td>\n",
              "      <td>0.051989</td>\n",
              "      <td>-1.651111</td>\n",
              "      <td>-0.143522</td>\n",
              "      <td>-0.136424</td>\n",
              "      <td>0.230238</td>\n",
              "      <td>-0.558825</td>\n",
              "      <td>0.495475</td>\n",
              "      <td>0.359321</td>\n",
              "      <td>1.200448</td>\n",
              "    </tr>\n",
              "    <tr>\n",
              "      <th>10623</th>\n",
              "      <td>1.496688</td>\n",
              "      <td>-1.025914</td>\n",
              "      <td>-0.520460</td>\n",
              "      <td>-0.131719</td>\n",
              "      <td>-1.060740</td>\n",
              "      <td>0.767475</td>\n",
              "      <td>1.186205</td>\n",
              "      <td>-1.041754</td>\n",
              "      <td>0.792921</td>\n",
              "      <td>-0.970370</td>\n",
              "      <td>-0.869387</td>\n",
              "      <td>0.920651</td>\n",
              "      <td>-0.176313</td>\n",
              "      <td>0.894403</td>\n",
              "      <td>0.755172</td>\n",
              "      <td>-0.488783</td>\n",
              "      <td>0.542351</td>\n",
              "      <td>0.524602</td>\n",
              "      <td>1.837886</td>\n",
              "      <td>0.763836</td>\n",
              "    </tr>\n",
              "    <tr>\n",
              "      <th>10624</th>\n",
              "      <td>-0.091857</td>\n",
              "      <td>-1.359348</td>\n",
              "      <td>-0.548322</td>\n",
              "      <td>-0.957483</td>\n",
              "      <td>-1.073372</td>\n",
              "      <td>0.240575</td>\n",
              "      <td>1.424192</td>\n",
              "      <td>1.247029</td>\n",
              "      <td>-0.218971</td>\n",
              "      <td>-0.517957</td>\n",
              "      <td>-0.867672</td>\n",
              "      <td>-1.199381</td>\n",
              "      <td>-1.508698</td>\n",
              "      <td>-0.085922</td>\n",
              "      <td>0.490566</td>\n",
              "      <td>-0.269301</td>\n",
              "      <td>-0.444388</td>\n",
              "      <td>-1.379266</td>\n",
              "      <td>1.901092</td>\n",
              "      <td>-0.283746</td>\n",
              "    </tr>\n",
              "    <tr>\n",
              "      <th>10625</th>\n",
              "      <td>-0.510886</td>\n",
              "      <td>-1.227104</td>\n",
              "      <td>0.397887</td>\n",
              "      <td>-0.467821</td>\n",
              "      <td>-0.567836</td>\n",
              "      <td>0.339455</td>\n",
              "      <td>1.185915</td>\n",
              "      <td>-1.039373</td>\n",
              "      <td>0.878420</td>\n",
              "      <td>-0.603193</td>\n",
              "      <td>-0.849729</td>\n",
              "      <td>-0.382722</td>\n",
              "      <td>-0.729624</td>\n",
              "      <td>0.313834</td>\n",
              "      <td>-0.834694</td>\n",
              "      <td>0.268436</td>\n",
              "      <td>-0.652427</td>\n",
              "      <td>-0.585459</td>\n",
              "      <td>-0.731210</td>\n",
              "      <td>-0.545353</td>\n",
              "    </tr>\n",
              "  </tbody>\n",
              "</table>\n",
              "<p>10626 rows × 20 columns</p>\n",
              "</div>"
            ],
            "text/plain": [
              "       aluminium   ammonia   arsenic  ...  selenium    silver   uranium\n",
              "0      -0.487175 -1.541747 -0.401703  ...  1.748826 -0.681329  1.313085\n",
              "1      -0.518790  0.534083 -0.480875  ... -1.031700  2.035310  0.198023\n",
              "2      -0.510886 -1.059677 -0.401703  ... -1.031700 -0.402699  0.941398\n",
              "3      -0.455561 -1.441504 -0.560046  ...  1.053694 -1.029616 -0.917040\n",
              "4       1.638897 -0.967318  3.002664  ...  0.706129  2.035310  1.313085\n",
              "...          ...       ...       ...  ...       ...       ...       ...\n",
              "10621   2.408162 -0.378180 -0.524209  ... -0.718183 -0.126344  0.581848\n",
              "10622   3.229912 -1.017412 -0.551647  ...  0.495475  0.359321  1.200448\n",
              "10623   1.496688 -1.025914 -0.520460  ...  0.524602  1.837886  0.763836\n",
              "10624  -0.091857 -1.359348 -0.548322  ... -1.379266  1.901092 -0.283746\n",
              "10625  -0.510886 -1.227104  0.397887  ... -0.585459 -0.731210 -0.545353\n",
              "\n",
              "[10626 rows x 20 columns]"
            ]
          },
          "metadata": {
            "tags": []
          },
          "execution_count": 14
        }
      ]
    },
    {
      "cell_type": "markdown",
      "metadata": {
        "id": "OxqIa3OiQYDz"
      },
      "source": [
        "#Model"
      ]
    },
    {
      "cell_type": "code",
      "metadata": {
        "colab": {
          "base_uri": "https://localhost:8080/"
        },
        "id": "tfdrpyrbQbFF",
        "outputId": "087af4f0-8f66-418a-e273-45eadbd9ee44"
      },
      "source": [
        "#create model\n",
        "from sklearn.ensemble import RandomForestClassifier\n",
        "import numpy as np\n",
        "rf = RandomForestClassifier(n_estimators=100)\n",
        "rf.fit(X_smote, y_smote)"
      ],
      "execution_count": 15,
      "outputs": [
        {
          "output_type": "execute_result",
          "data": {
            "text/plain": [
              "RandomForestClassifier(bootstrap=True, ccp_alpha=0.0, class_weight=None,\n",
              "                       criterion='gini', max_depth=None, max_features='auto',\n",
              "                       max_leaf_nodes=None, max_samples=None,\n",
              "                       min_impurity_decrease=0.0, min_impurity_split=None,\n",
              "                       min_samples_leaf=1, min_samples_split=2,\n",
              "                       min_weight_fraction_leaf=0.0, n_estimators=100,\n",
              "                       n_jobs=None, oob_score=False, random_state=None,\n",
              "                       verbose=0, warm_start=False)"
            ]
          },
          "metadata": {
            "tags": []
          },
          "execution_count": 15
        }
      ]
    },
    {
      "cell_type": "code",
      "metadata": {
        "colab": {
          "base_uri": "https://localhost:8080/",
          "height": 545
        },
        "id": "075RfcM7iLn1",
        "outputId": "5bfc8953-3bbf-4d86-9a7b-690421e21b2a"
      },
      "source": [
        "#get data importance feature\n",
        "importances = pd.DataFrame({'feature':X_train.columns,'importance':np.round(rf.feature_importances_,3)})\n",
        "importances = importances.sort_values('importance',ascending=False).set_index('feature')\n",
        "importances.head(15)"
      ],
      "execution_count": 16,
      "outputs": [
        {
          "output_type": "execute_result",
          "data": {
            "text/html": [
              "<div>\n",
              "<style scoped>\n",
              "    .dataframe tbody tr th:only-of-type {\n",
              "        vertical-align: middle;\n",
              "    }\n",
              "\n",
              "    .dataframe tbody tr th {\n",
              "        vertical-align: top;\n",
              "    }\n",
              "\n",
              "    .dataframe thead th {\n",
              "        text-align: right;\n",
              "    }\n",
              "</style>\n",
              "<table border=\"1\" class=\"dataframe\">\n",
              "  <thead>\n",
              "    <tr style=\"text-align: right;\">\n",
              "      <th></th>\n",
              "      <th>importance</th>\n",
              "    </tr>\n",
              "    <tr>\n",
              "      <th>feature</th>\n",
              "      <th></th>\n",
              "    </tr>\n",
              "  </thead>\n",
              "  <tbody>\n",
              "    <tr>\n",
              "      <th>aluminium</th>\n",
              "      <td>0.211</td>\n",
              "    </tr>\n",
              "    <tr>\n",
              "      <th>cadmium</th>\n",
              "      <td>0.125</td>\n",
              "    </tr>\n",
              "    <tr>\n",
              "      <th>arsenic</th>\n",
              "      <td>0.080</td>\n",
              "    </tr>\n",
              "    <tr>\n",
              "      <th>silver</th>\n",
              "      <td>0.070</td>\n",
              "    </tr>\n",
              "    <tr>\n",
              "      <th>chloramine</th>\n",
              "      <td>0.063</td>\n",
              "    </tr>\n",
              "    <tr>\n",
              "      <th>perchlorate</th>\n",
              "      <td>0.062</td>\n",
              "    </tr>\n",
              "    <tr>\n",
              "      <th>viruses</th>\n",
              "      <td>0.050</td>\n",
              "    </tr>\n",
              "    <tr>\n",
              "      <th>uranium</th>\n",
              "      <td>0.046</td>\n",
              "    </tr>\n",
              "    <tr>\n",
              "      <th>nitrites</th>\n",
              "      <td>0.039</td>\n",
              "    </tr>\n",
              "    <tr>\n",
              "      <th>chromium</th>\n",
              "      <td>0.039</td>\n",
              "    </tr>\n",
              "    <tr>\n",
              "      <th>nitrates</th>\n",
              "      <td>0.035</td>\n",
              "    </tr>\n",
              "    <tr>\n",
              "      <th>radium</th>\n",
              "      <td>0.028</td>\n",
              "    </tr>\n",
              "    <tr>\n",
              "      <th>copper</th>\n",
              "      <td>0.027</td>\n",
              "    </tr>\n",
              "    <tr>\n",
              "      <th>bacteria</th>\n",
              "      <td>0.025</td>\n",
              "    </tr>\n",
              "    <tr>\n",
              "      <th>lead</th>\n",
              "      <td>0.024</td>\n",
              "    </tr>\n",
              "  </tbody>\n",
              "</table>\n",
              "</div>"
            ],
            "text/plain": [
              "             importance\n",
              "feature                \n",
              "aluminium         0.211\n",
              "cadmium           0.125\n",
              "arsenic           0.080\n",
              "silver            0.070\n",
              "chloramine        0.063\n",
              "perchlorate       0.062\n",
              "viruses           0.050\n",
              "uranium           0.046\n",
              "nitrites          0.039\n",
              "chromium          0.039\n",
              "nitrates          0.035\n",
              "radium            0.028\n",
              "copper            0.027\n",
              "bacteria          0.025\n",
              "lead              0.024"
            ]
          },
          "metadata": {
            "tags": []
          },
          "execution_count": 16
        }
      ]
    },
    {
      "cell_type": "code",
      "metadata": {
        "colab": {
          "base_uri": "https://localhost:8080/",
          "height": 344
        },
        "id": "yJNb0tyQiXXc",
        "outputId": "6117bd1d-d9e2-4f5a-dfd9-9b27fa307c4a"
      },
      "source": [
        "#plotting importance feature\n",
        "importances.plot.bar()"
      ],
      "execution_count": 17,
      "outputs": [
        {
          "output_type": "execute_result",
          "data": {
            "text/plain": [
              "<matplotlib.axes._subplots.AxesSubplot at 0x7f0e60b97cd0>"
            ]
          },
          "metadata": {
            "tags": []
          },
          "execution_count": 17
        },
        {
          "output_type": "display_data",
          "data": {
            "image/png": "[encoded data removed]",
            "text/plain": [
              "<Figure size 432x288 with 1 Axes>"
            ]
          },
          "metadata": {
            "tags": [],
            "needs_background": "light"
          }
        }
      ]
    },
    {
      "cell_type": "code",
      "metadata": {
        "colab": {
          "base_uri": "https://localhost:8080/"
        },
        "id": "sPBa1rdAXzg9",
        "outputId": "5daac0d9-409b-4bb3-f81e-b49f04db45a4"
      },
      "source": [
        "#confusion matrix\n",
        "predictions_test = cross_val_predict(rf, X_test, y_test, cv=3)\n",
        "confusion_matrix(y_test, predictions_test)"
      ],
      "execution_count": 18,
      "outputs": [
        {
          "output_type": "execute_result",
          "data": {
            "text/plain": [
              "array([[1756,   15],\n",
              "       [  98,  130]])"
            ]
          },
          "metadata": {
            "tags": []
          },
          "execution_count": 18
        }
      ]
    },
    {
      "cell_type": "code",
      "metadata": {
        "id": "fVZ7G0XfjVfN"
      },
      "source": [
        "#to get roc score\n",
        "rf_probs = rf.predict_proba(X_test)\n",
        "rf_probs = rf_probs[:, 1]"
      ],
      "execution_count": 19,
      "outputs": []
    },
    {
      "cell_type": "code",
      "metadata": {
        "colab": {
          "base_uri": "https://localhost:8080/"
        },
        "id": "ipbwPD5fiiyy",
        "outputId": "23b26ee2-a6bf-416a-c41d-5b1177add1d4"
      },
      "source": [
        "print(\"Accuracy:\", rf.score(X_test, y_test))\n",
        "print(\"Precision:\", precision_score(y_test, predictions_test))\n",
        "print(\"Recall:\",recall_score(y_test, predictions_test))\n",
        "print(\"ROC Score:\",roc_auc_score(y_test, rf_probs))"
      ],
      "execution_count": 20,
      "outputs": [
        {
          "output_type": "stream",
          "text": [
            "Accuracy: 0.9564782391195598\n",
            "Precision: 0.896551724137931\n",
            "Recall: 0.5701754385964912\n",
            "ROC Score: 0.9783512635343299\n"
          ],
          "name": "stdout"
        }
      ]
    },
    {
      "cell_type": "markdown",
      "metadata": {
        "id": "OK_VEXuAqBdk"
      },
      "source": [
        "#New Feature Model"
      ]
    },
    {
      "cell_type": "code",
      "metadata": {
        "colab": {
          "base_uri": "https://localhost:8080/"
        },
        "id": "2KtQraTcXPrN",
        "outputId": "cf36caab-5128-4946-a43a-5e8262458fc8"
      },
      "source": [
        "#getting feature importances\n",
        "from sklearn.feature_selection import SelectFromModel\n",
        "\n",
        "selector = SelectFromModel(estimator=rf)\n",
        "selector.fit(X_train, y_train)\n",
        "\n",
        "print(\"Feature Importances\")\n",
        "print(selector.estimator_.feature_importances_)\n",
        "print(\"Threshold\")\n",
        "print(selector.threshold_)\n",
        "print(\"Keep Features?\")\n",
        "print(selector.get_support())"
      ],
      "execution_count": 21,
      "outputs": [
        {
          "output_type": "stream",
          "text": [
            "Feature Importances\n",
            "[0.20450493 0.04609793 0.06983637 0.02789604 0.11839263 0.04661181\n",
            " 0.02940125 0.02530195 0.02086191 0.02707399 0.03048537 0.0255843\n",
            " 0.03773738 0.0340425  0.01512187 0.11295029 0.03307015 0.01690561\n",
            " 0.04809997 0.03002377]\n",
            "Threshold\n",
            "0.05\n",
            "Keep Features?\n",
            "[ True False  True False  True False False False False False False False\n",
            " False False False  True False False False False]\n"
          ],
          "name": "stdout"
        }
      ]
    },
    {
      "cell_type": "code",
      "metadata": {
        "colab": {
          "base_uri": "https://localhost:8080/",
          "height": 390
        },
        "id": "wOJvyYgVpTzz",
        "outputId": "4316ae4a-62bc-48b1-bf4f-ff649ef29c54"
      },
      "source": [
        "#finding lowest importance features\n",
        "importances.tail(10)"
      ],
      "execution_count": 22,
      "outputs": [
        {
          "output_type": "execute_result",
          "data": {
            "text/html": [
              "<div>\n",
              "<style scoped>\n",
              "    .dataframe tbody tr th:only-of-type {\n",
              "        vertical-align: middle;\n",
              "    }\n",
              "\n",
              "    .dataframe tbody tr th {\n",
              "        vertical-align: top;\n",
              "    }\n",
              "\n",
              "    .dataframe thead th {\n",
              "        text-align: right;\n",
              "    }\n",
              "</style>\n",
              "<table border=\"1\" class=\"dataframe\">\n",
              "  <thead>\n",
              "    <tr style=\"text-align: right;\">\n",
              "      <th></th>\n",
              "      <th>importance</th>\n",
              "    </tr>\n",
              "    <tr>\n",
              "      <th>feature</th>\n",
              "      <th></th>\n",
              "    </tr>\n",
              "  </thead>\n",
              "  <tbody>\n",
              "    <tr>\n",
              "      <th>nitrates</th>\n",
              "      <td>0.035</td>\n",
              "    </tr>\n",
              "    <tr>\n",
              "      <th>radium</th>\n",
              "      <td>0.028</td>\n",
              "    </tr>\n",
              "    <tr>\n",
              "      <th>copper</th>\n",
              "      <td>0.027</td>\n",
              "    </tr>\n",
              "    <tr>\n",
              "      <th>bacteria</th>\n",
              "      <td>0.025</td>\n",
              "    </tr>\n",
              "    <tr>\n",
              "      <th>lead</th>\n",
              "      <td>0.024</td>\n",
              "    </tr>\n",
              "    <tr>\n",
              "      <th>ammonia</th>\n",
              "      <td>0.021</td>\n",
              "    </tr>\n",
              "    <tr>\n",
              "      <th>barium</th>\n",
              "      <td>0.017</td>\n",
              "    </tr>\n",
              "    <tr>\n",
              "      <th>selenium</th>\n",
              "      <td>0.015</td>\n",
              "    </tr>\n",
              "    <tr>\n",
              "      <th>mercury</th>\n",
              "      <td>0.012</td>\n",
              "    </tr>\n",
              "    <tr>\n",
              "      <th>flouride</th>\n",
              "      <td>0.011</td>\n",
              "    </tr>\n",
              "  </tbody>\n",
              "</table>\n",
              "</div>"
            ],
            "text/plain": [
              "          importance\n",
              "feature             \n",
              "nitrates       0.035\n",
              "radium         0.028\n",
              "copper         0.027\n",
              "bacteria       0.025\n",
              "lead           0.024\n",
              "ammonia        0.021\n",
              "barium         0.017\n",
              "selenium       0.015\n",
              "mercury        0.012\n",
              "flouride       0.011"
            ]
          },
          "metadata": {
            "tags": []
          },
          "execution_count": 22
        }
      ]
    },
    {
      "cell_type": "code",
      "metadata": {
        "id": "bBYYqkS5eUoA"
      },
      "source": [
        "#drop 10 lowest importance feature and assign to new variable\n",
        "X_smote_new  = X_smote.drop(['flouride','mercury','selenium','barium','lead','ammonia','radium','copper','nitrates'], axis=1)\n",
        "X_test_new  =  X_test.drop(['flouride','mercury','selenium','barium','lead','ammonia','radium','copper','nitrates'], axis=1)"
      ],
      "execution_count": 23,
      "outputs": []
    },
    {
      "cell_type": "code",
      "metadata": {
        "colab": {
          "base_uri": "https://localhost:8080/"
        },
        "id": "ezOBmffao4ug",
        "outputId": "ac62f1f5-b295-4738-c6cc-0d08a1161084"
      },
      "source": [
        "#making new model\n",
        "rf.fit(X_smote_new, y_smote)"
      ],
      "execution_count": 24,
      "outputs": [
        {
          "output_type": "execute_result",
          "data": {
            "text/plain": [
              "RandomForestClassifier(bootstrap=True, ccp_alpha=0.0, class_weight=None,\n",
              "                       criterion='gini', max_depth=None, max_features='auto',\n",
              "                       max_leaf_nodes=None, max_samples=None,\n",
              "                       min_impurity_decrease=0.0, min_impurity_split=None,\n",
              "                       min_samples_leaf=1, min_samples_split=2,\n",
              "                       min_weight_fraction_leaf=0.0, n_estimators=100,\n",
              "                       n_jobs=None, oob_score=False, random_state=None,\n",
              "                       verbose=0, warm_start=False)"
            ]
          },
          "metadata": {
            "tags": []
          },
          "execution_count": 24
        }
      ]
    },
    {
      "cell_type": "code",
      "metadata": {
        "colab": {
          "base_uri": "https://localhost:8080/"
        },
        "id": "nvBBXXymo_ld",
        "outputId": "439954d8-6d95-4e63-d33b-9c25fe807a12"
      },
      "source": [
        "#confusion matrix\n",
        "predictions_test_new = cross_val_predict(rf, X_test_new, y_test, cv=3)\n",
        "confusion_matrix(y_test, predictions_test_new)"
      ],
      "execution_count": 25,
      "outputs": [
        {
          "output_type": "execute_result",
          "data": {
            "text/plain": [
              "array([[1748,   23],\n",
              "       [  95,  133]])"
            ]
          },
          "metadata": {
            "tags": []
          },
          "execution_count": 25
        }
      ]
    },
    {
      "cell_type": "code",
      "metadata": {
        "id": "8lCFvdtjpIDX"
      },
      "source": [
        "#to get roc score\n",
        "rf_probs = rf.predict_proba(X_test_new)\n",
        "rf_probs = rf_probs[:, 1]"
      ],
      "execution_count": 26,
      "outputs": []
    },
    {
      "cell_type": "code",
      "metadata": {
        "colab": {
          "base_uri": "https://localhost:8080/"
        },
        "id": "v1bf6kRYpKpg",
        "outputId": "316b6655-3000-4a66-8a44-458d7c787e4b"
      },
      "source": [
        "print(\"Accuracy:\", rf.score(X_test_new, y_test))\n",
        "print(\"Precision:\", precision_score(y_test, predictions_test_new))\n",
        "print(\"Recall:\",recall_score(y_test, predictions_test_new))\n",
        "print(\"ROC Score:\",roc_auc_score(y_test, rf_probs))"
      ],
      "execution_count": 27,
      "outputs": [
        {
          "output_type": "stream",
          "text": [
            "Accuracy: 0.9389694847423712\n",
            "Precision: 0.8525641025641025\n",
            "Recall: 0.5833333333333334\n",
            "ROC Score: 0.9636492416812783\n"
          ],
          "name": "stdout"
        }
      ]
    },
    {
      "cell_type": "markdown",
      "metadata": {
        "id": "_PslYoukrGgX"
      },
      "source": [
        "Kesimpulan:\n",
        "dengan membuang 10 fitur terbawah:\n",
        "1. Akurasi hanya menurun sekitar 2% dari 95.64% ke 93.89%\n",
        "2. Presisi menurun 4% dari 89.66% menjadi 85.25%\n",
        "3. Recall meningkat dari 57.01% menjadi 58.33%\n",
        "4. ROC Score menurun 1% dari 97.84% menjadi 96.36%\n",
        "Overall dengan mengurangi 10 fitur terbawah, akurasi, presisi dan ROC hanya menurun sedikit dan masih acceptable, recall malah meningkat menjadi 58.33% dari 57.01%"
      ]
    }
  ]
}