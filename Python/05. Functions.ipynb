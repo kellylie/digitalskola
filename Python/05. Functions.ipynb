{
  "nbformat": 4,
  "nbformat_minor": 0,
  "metadata": {
    "colab": {
      "name": "HW 3.ipynb",
      "provenance": [],
      "collapsed_sections": []
    },
    "kernelspec": {
      "name": "python3",
      "display_name": "Python 3"
    },
    "language_info": {
      "name": "python"
    }
  },
  "cells": [
    {
      "cell_type": "markdown",
      "metadata": {
        "id": "HbVnVT--YrLr"
      },
      "source": [
        "Tugas:\n",
        "\n",
        "Anda adalah seorang data scientist yang bertugas untuk menghitung performa transaksi dari suatu produk. Anda menerima value dari suatu transaksi tersebut dan bertujuan **mencari rata-ratanya**. Untuk meminimalisir hal yang repetitif, declare suatu function yang **menerima berapapun input dari suatu transaksi (flexible argument)** dan mengeluarkan rata-rata dari input transaksi tersebut. Desain fungsi tersebut dengan menggunakan **docstrings** dan juga dapat menghandle **tipe error seperti ValueError dan TypeError.**"
      ]
    },
    {
      "cell_type": "code",
      "metadata": {
        "id": "DTgSw_AJYpJY"
      },
      "source": [
        "def avg(*args):\n",
        "    \"\"\"Average of all positive input\"\"\"\n",
        "    try:\n",
        "      #initialize sum\n",
        "      sum_all = 0\n",
        "      count_all = 0\n",
        "\n",
        "      #Accumulate data\n",
        "      for num in args:\n",
        "          if num <0:\n",
        "              raise ValueError ('input must be positive number')\n",
        "          sum_all +=num\n",
        "          count_all +=1\n",
        "      return (sum_all/count_all)\n",
        "    except TypeError:\n",
        "          print('input must be an int or float')\n",
        "    except ValueError as ve:\n",
        "          print(ve)\n"
      ],
      "execution_count": null,
      "outputs": []
    },
    {
      "cell_type": "code",
      "metadata": {
        "id": "ATGiWw1IkqUt",
        "colab": {
          "base_uri": "https://localhost:8080/"
        },
        "outputId": "b803f20c-bc69-4d00-8d39-b6ba1fadd7c6"
      },
      "source": [
        "avg(1,2,\"hello\")"
      ],
      "execution_count": null,
      "outputs": [
        {
          "output_type": "stream",
          "text": [
            "input must be an int or float\n"
          ],
          "name": "stdout"
        }
      ]
    },
    {
      "cell_type": "code",
      "metadata": {
        "colab": {
          "base_uri": "https://localhost:8080/"
        },
        "id": "xIPIffPekoeO",
        "outputId": "45991e75-6666-4d80-b579-93a9fd313625"
      },
      "source": [
        "avg(1,2,-3)"
      ],
      "execution_count": null,
      "outputs": [
        {
          "output_type": "stream",
          "text": [
            "input must be positive number\n"
          ],
          "name": "stdout"
        }
      ]
    },
    {
      "cell_type": "code",
      "metadata": {
        "id": "e2y5va-WkpAd",
        "colab": {
          "base_uri": "https://localhost:8080/"
        },
        "outputId": "76f9ba0e-8a5c-4154-8688-3b8468810bf2"
      },
      "source": [
        "avg(1,2,3)"
      ],
      "execution_count": null,
      "outputs": [
        {
          "output_type": "execute_result",
          "data": {
            "text/plain": [
              "2.0"
            ]
          },
          "metadata": {
            "tags": []
          },
          "execution_count": 100
        }
      ]
    }
  ]
}